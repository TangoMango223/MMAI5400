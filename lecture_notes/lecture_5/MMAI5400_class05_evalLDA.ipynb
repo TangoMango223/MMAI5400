{
 "cells": [
  {
   "cell_type": "markdown",
   "metadata": {
    "id": "oC-Myl9iXnNm"
   },
   "source": [
    "### Latent Dirichlet Allocation (LDA): model selection and evaluation\n",
    "\n",
    "Modified from [Evaluate Topic Models: Latent Dirichlet Allocation (LDA)](https://towardsdatascience.com/evaluate-topic-model-in-python-latent-dirichlet-allocation-lda-7d57484bb5d0).\n",
    "\n",
    "LDA is used to cluster documents in particular topics. It builds a topic per document model and words per topic model, modeled as Dirichlet distributions. \n",
    "\n",
    "* Each document is modeled as a multinomial distribution of topics and each topic is modeled as a multinomial distribution of words.\n",
    "* LDA assumes that the every chunk of text we feed into it will contain words that are somehow related. Therefore choosing the right corpus of data is crucial. \n",
    "* It also assumes documents are produced from a mixture of topics. Those topics then generate words based on their probability distribution. \n",
    "\n",
    "We will use [Gensim](https://radimrehurek.com/gensim/) for topic modelling with LDA. Gensim is a popular open-source library for unsupervised topic modeling and natural language processing.\n",
    "\n",
    "Gensim is implemented in Python and Cython, the latter for improved performance. Gensim is designed to handle large text collections using data streaming and incremental online algorithms, which differentiates it from most other machine learning software packages that target only in-memory processing. \n",
    "\n",
    "**We will evaluate and select topic models using a measure of topic coherence.**\n",
    "\n",
    "### Why evaluate topic models?\n",
    "\n",
    "Probabilistic topic models, such as LDA, are popular tools for text analysis, providing both a predictive and latent topic representation of the corpus. There is a longstanding assumption that the latent space discovered by these models is meaningful and useful, but evaluating such assumptions is challenging due to its unsupervised training process. Since there is a no-gold standard list of topics to compare against every corpus, we cannot compute the normal performance metrics we do for supervised learning.\n",
    "\n",
    "However, it is still critically important to identify if a trained model is objectively good or bad, as well to compare different models/methods, and to do so, we need a quality measure. While implicit knowledge and \"eyeballing\" are popular, they are not objective approaches that can be applied systematically. We need something better, that perferably captures the model's quality in a single metric that can be maximized and compared. \n",
    "\n",
    "These are the commonly used approaches for evaluation:\n",
    "\n",
    "**Eye Balling Models**\n",
    "- Top N words\n",
    "- Topics / Documents\n",
    "\n",
    "**Intrinsic Evaluation Metrics**\n",
    "- Capturing model semantics\n",
    "- Topics interpretability\n",
    "\n",
    "**Human Judgements**\n",
    "- [What is a topic?](https://proceedings.neurips.cc/paper/2009/file/f92586a25bb3145facd64ab20fd554ff-Paper.pdf)\n",
    "\n",
    "**Extrinsic Evaluation Metrics/Evaluation at task**\n",
    "- Is model good at performing predefined tasks, such as clustering \n",
    "\n",
    "A big problem is that natural language is messy, ambiguous and full of subjective interpretation, and sometimes trying to de-ambiguite reduces the language to an unnatural form. Nevertheless, in order to use a single quality metric we will have to accept such risks.\n",
    "\n",
    "### What is Topic Coherence?\n",
    "\n",
    "Perplexity is often used as an example of an intrinsic evaluation measure. It comes from the language modeling community and aims to capture how surprised a model is of new data it has not seen before. It is measured as the normalized log-likelihood of a held-out test set.\n",
    "\n",
    "Focusing on the log-likelihood part, you can think of the perplexity metric as measuring how probable some new unseen data is given the model that was learned earlier. That is to say, how well does the model represent or reproduce the statistics of the held-out data.\n",
    "\n",
    "[However, past research has shown that predictive likelihood (or equivalently, perplexity) and human judgment are often not correlated, and even sometimes slightly anti-correlated.](http://qpleple.com/perplexity-to-evaluate-topic-models/) And that served as a motivation for more work trying to model the human judgment, and thus `Topic Coherence`.\n",
    "\n",
    "The topic coherence concept combines a number of papers into one framework that allows evaluating the coherence of topics inferred by a topic model. But,\n",
    "\n",
    "#### What is topic coherence?\n",
    "Topic Coherence scores a single topic by measuring the degree of semantic similarity between high-scoring words in the topic. These measurements help distinguish between topics that are semantically interpretable topics and topics that are artifacts of statistical inference. But,\n",
    "\n",
    "#### What is coherence?\n",
    "A coherent fact set is a set of statements or facts that support each other. Thus, a coherent fact set can be interpreted in a context that covers all or most of the facts. An example of a coherent fact set is \"the game is a team sport,\" \"the game is played with a ball,\" or \"the game demands great physical effort.\"\n",
    "\n",
    "### Coherence Measures\n",
    "\n",
    "1. `C_v` measure is based on a sliding window, one-set segmentation of the top words and an indirect confirmation measure that uses normalized pointwise mutual information (NPMI) and the cosine similarity. See explanations in the paper by [Syed and Spruit](http://www.saf21.eu/wp-content/uploads/2017/09/5004a165.pdf) the [paper by Röder et al](https://svn.aksw.org/papers/2015/WSDM_Topic_Evaluation/public.pdf) and in [this blog post](https://towardsdatascience.com/c%E1%B5%A5-topic-coherence-explained-fc70e2a85227).\n",
    "2. `C_p` is based on a sliding window, one-preceding segmentation of the top words and the confirmation measure of Fitelson's coherence. See explanations in the [paper by Röder et al.](https://svn.aksw.org/papers/2015/WSDM_Topic_Evaluation/public.pdf).\n",
    "3. [`C_uci` measure is based on a sliding window and the pointwise mutual information (PMI) of all word pairs of the given top words.](http://svn.aksw.org/papers/2015/WSDM_Topic_Evaluation/public.pdf)\n",
    "4. [`C_umass` is based on document co-occurrence counts, a one-preceding segmentation and a logarithmic conditional probability as a confirmation measure.](http://svn.aksw.org/papers/2015/WSDM_Topic_Evaluation/public.pdf)\n",
    "5. [`C_npmi` is an enhanced version of the C_uci coherence using the normalized pointwise mutual information (NPMI).](http://svn.aksw.org/papers/2015/WSDM_Topic_Evaluation/public.pdf)\n",
    "6. `C_a` is based on a context window, a pairwise comparison of the top words and an indirect confirmation measure that uses normalized pointwise mutual information (NPMI) and the cosine similarity.\n",
    "\n"
   ]
  },
  {
   "cell_type": "markdown",
   "metadata": {
    "id": "VHhLF0KwXnNq"
   },
   "source": [
    "### Model Implementation\n",
    "1. Loading Data\n",
    "2. Data Cleaning\n",
    "3. Phrase Modeling: Bi-grams and Tri-grams\n",
    "4. Data Transformation: Corpus and Dictionary\n",
    "5. Base Model\n",
    "6. Hyper-parameter Tuning\n",
    "7. Final model\n",
    "8. Visualize Results\n",
    "\n",
    "** **\n",
    "\n",
    "For this tutorial, we’ll use the dataset of papers published in NeurIPS (NIPS) conference which is one of the most prestigious yearly events in the machine learning community. The CSV data file contains information on the different NeurIPS papers that were published from 1987 until 2016 (29 years!). These papers discuss a wide variety of topics in machine learning, from neural networks to optimization methods, and many more.\n",
    "\n",
    "<img src=\"https://s3.amazonaws.com/assets.datacamp.com/production/project_158/img/nips_logo.png\" alt=\"The logo of NIPS (Neural Information Processing Systems)\">\n",
    "\n",
    "Let’s start by looking at the content of the file\n",
    "\n",
    "** **\n",
    "#### Step 0: Install the latest version of Gensim\n",
    "** **\n",
    "\n",
    "An old (and buggy) version of Gensim is installed by default on Google Colab. Please upgrade to the latest version using the command above and restart the runtime so that the new version is loaded.\n",
    "\n",
    "While we're at it, let's also install [pyLDAvis](https://pyldavis.readthedocs.io/en/latest/readme.html#:~:text=pyLDAvis%20is%20designed%20to%20help,an%20interactive%20web%2Dbased%20visualization.), a package that helps users interpret the topics in a topic model. The package extracts information from an LDA topic model to inform an interactive web-based visualization."
   ]
  },
  {
   "cell_type": "code",
   "execution_count": null,
   "metadata": {
    "colab": {
     "base_uri": "https://localhost:8080/"
    },
    "id": "JuZZJ8OmX78t",
    "outputId": "09108e8c-8dea-40c0-8573-b0add03e7872"
   },
   "outputs": [],
   "source": [
    "!pip install -U numpy\n",
    "!pip install -U gensim pyldavis"
   ]
  },
  {
   "cell_type": "code",
   "execution_count": null,
   "metadata": {
    "id": "eG4NbDn9XnNt"
   },
   "outputs": [],
   "source": [
    "import gensim\n",
    "from packaging import version\n",
    "assert version.parse(\"3.7\") < version.parse(gensim.__version__)"
   ]
  },
  {
   "cell_type": "markdown",
   "metadata": {
    "id": "ZxmPIUC8ibRo"
   },
   "source": [
    "** **\n",
    "#### Step 1: Loading Data\n",
    "** **"
   ]
  },
  {
   "cell_type": "code",
   "execution_count": null,
   "metadata": {
    "colab": {
     "base_uri": "https://localhost:8080/",
     "height": 91
    },
    "id": "O4GHMPJtg-Ps",
    "outputId": "48e04428-5cb4-4bc6-9214-fb4603e653f6"
   },
   "outputs": [],
   "source": [
    "from google.colab import files\n",
    "\n",
    "uploaded = files.upload()\n",
    "\n",
    "for fn in uploaded.keys():\n",
    "  print(f'User uploaded file \"{fn}\" with length {len(uploaded[fn])} bytes')"
   ]
  },
  {
   "cell_type": "code",
   "execution_count": null,
   "metadata": {
    "colab": {
     "base_uri": "https://localhost:8080/",
     "height": 206
    },
    "id": "qxvohYUDXnNr",
    "outputId": "c49d367b-1181-4adf-8565-6b5d1adb821a"
   },
   "outputs": [],
   "source": [
    "# Importing modules\n",
    "import pandas as pd\n",
    "import os\n",
    "\n",
    "# Read data into papers\n",
    "papers = pd.read_csv('papers_500.csv')\n",
    "\n",
    "# Print head\n",
    "papers.head()"
   ]
  },
  {
   "cell_type": "markdown",
   "metadata": {
    "id": "0QBI01ImXnNt"
   },
   "source": [
    "** **\n",
    "#### Step 2: Data Cleaning\n",
    "** **\n",
    "\n",
    "Since the goal of this analysis is to perform topic modeling, we will solely focus on the text data from each paper, and drop other metadata columns"
   ]
  },
  {
   "cell_type": "code",
   "execution_count": null,
   "metadata": {
    "colab": {
     "base_uri": "https://localhost:8080/",
     "height": 206
    },
    "id": "-q7CAuhtXnNu",
    "outputId": "dd0a0c2d-84d1-4954-d7cb-a37a79061140"
   },
   "outputs": [],
   "source": [
    "# Remove the columns\n",
    "papers = papers.drop(columns=['Unnamed: 0'], axis=1)\n",
    "\n",
    "# sample only 100 papers\n",
    "# papers = papers.sample(100)\n",
    "\n",
    "# Print out the first rows of papers\n",
    "papers.head()"
   ]
  },
  {
   "cell_type": "markdown",
   "metadata": {
    "id": "cc_8tZi4XnNu"
   },
   "source": [
    "##### Remove punctuation/lower casing\n",
    "\n",
    "Next, let’s perform a simple preprocessing on the content of paper_text column to make them more amenable for analysis, and reliable results. To do that, we’ll use a regular expression to remove any punctuation, and then lowercase the text"
   ]
  },
  {
   "cell_type": "code",
   "execution_count": null,
   "metadata": {
    "colab": {
     "base_uri": "https://localhost:8080/"
    },
    "id": "kaJG3KxzXnNv",
    "outputId": "69e17b93-25a1-43a5-9812-473090f19814"
   },
   "outputs": [],
   "source": [
    "# Load the regular expression library\n",
    "import re\n",
    "\n",
    "# Remove punctuation\n",
    "papers['paper_text_processed'] = papers['paper_text'].map(lambda x: re.sub('[,\\.!?]', '', x))\n",
    "papers['paper_text_processed'] = papers['paper_text_processed'].map(lambda x: re.sub('[\\n]', ' ', x))\n",
    "\n",
    "# Convert the titles to lowercase\n",
    "papers['paper_text_processed'] = papers['paper_text_processed'].map(lambda x: x.lower())\n",
    "\n",
    "# Print out the first rows of papers\n",
    "papers['paper_text_processed'].head()"
   ]
  },
  {
   "cell_type": "code",
   "execution_count": null,
   "metadata": {
    "colab": {
     "base_uri": "https://localhost:8080/",
     "height": 206
    },
    "id": "DB7ESKWBmTTI",
    "outputId": "3a387314-9a15-4f3c-a196-55165934ae8d"
   },
   "outputs": [],
   "source": [
    "papers.head()"
   ]
  },
  {
   "cell_type": "markdown",
   "metadata": {
    "id": "w-26DAD6XnNv"
   },
   "source": [
    "##### Tokenize words and further clean-up text\n",
    "\n",
    "Let’s tokenize each sentence into a list of words, removing punctuations and unnecessary characters altogether."
   ]
  },
  {
   "cell_type": "code",
   "execution_count": null,
   "metadata": {
    "colab": {
     "base_uri": "https://localhost:8080/"
    },
    "id": "0VZI78vyXnNw",
    "outputId": "6285eb50-cdec-47bf-85ae-6dfcfd5981cd"
   },
   "outputs": [],
   "source": [
    "import gensim\n",
    "from gensim.utils import simple_preprocess\n",
    "\n",
    "def sent_to_words(sentences):\n",
    "    for sentence in sentences:\n",
    "        yield(gensim.utils.simple_preprocess(str(sentence), deacc=True))  # deacc=True removes punctuations\n",
    "\n",
    "data = papers.paper_text_processed.values.tolist()\n",
    "data_words = list(sent_to_words(data))\n",
    "\n",
    "print(data_words[:1][0][:30])"
   ]
  },
  {
   "cell_type": "markdown",
   "metadata": {
    "id": "2R5P5tFyXnNw"
   },
   "source": [
    "** **\n",
    "#### Step 3: Phrase Modeling: Bigram and Trigram Models\n",
    "** **\n",
    "\n",
    "Bigrams are two words frequently occurring together in the document. Trigrams are 3 words frequently occurring. Some examples in our example are: 'back_bumper', 'oil_leakage', 'maryland_college_park' etc.\n",
    "\n",
    "Gensim's Phrases model can build and implement the bigrams, trigrams, quadgrams and more. The two important arguments to Phrases are min_count and threshold."
   ]
  },
  {
   "cell_type": "code",
   "execution_count": null,
   "metadata": {
    "id": "o5EfbOliXnNw"
   },
   "outputs": [],
   "source": [
    "# Build the bigram and trigram models\n",
    "bigram = gensim.models.Phrases(data_words, min_count=5, threshold=100) # higher threshold fewer phrases.\n",
    "trigram = gensim.models.Phrases(bigram[data_words], threshold=100)  \n",
    "\n",
    "# Faster way to get a sentence clubbed as a trigram/bigram\n",
    "bigram_mod = gensim.models.phrases.Phraser(bigram)\n",
    "trigram_mod = gensim.models.phrases.Phraser(trigram)"
   ]
  },
  {
   "cell_type": "markdown",
   "metadata": {
    "id": "icwbR4wIXnNx"
   },
   "source": [
    "#### Remove Stopwords, Make Bigrams and Lemmatize\n",
    "\n",
    "The phrase models are ready. Let’s define the functions to remove the stopwords, make trigrams and lemmatization and call them sequentially."
   ]
  },
  {
   "cell_type": "code",
   "execution_count": null,
   "metadata": {
    "colab": {
     "base_uri": "https://localhost:8080/"
    },
    "id": "xBcmO_JrXnNx",
    "outputId": "98f9520c-c962-461e-99a6-5b2d905479df"
   },
   "outputs": [],
   "source": [
    "# NLTK Stop words\n",
    "import nltk\n",
    "nltk.download('stopwords')\n",
    "from nltk.corpus import stopwords\n",
    "\n",
    "stop_words = stopwords.words('english')\n",
    "stop_words.extend(['from', 'subject', 're', 'edu', 'use'])"
   ]
  },
  {
   "cell_type": "code",
   "execution_count": null,
   "metadata": {
    "id": "QwUcdQEmXnNx"
   },
   "outputs": [],
   "source": [
    "# Define functions for stopwords, bigrams, trigrams and lemmatization\n",
    "def remove_stopwords(texts):\n",
    "    return [[word for word in simple_preprocess(str(doc)) if word not in stop_words] for doc in texts]\n",
    "\n",
    "def make_bigrams(texts):\n",
    "    return [bigram_mod[doc] for doc in texts]\n",
    "\n",
    "def make_trigrams(texts):\n",
    "    return [trigram_mod[bigram_mod[doc]] for doc in texts]\n",
    "\n",
    "def lemmatization(texts, allowed_postags=['NOUN', 'ADJ', 'VERB', 'ADV']):\n",
    "    \"\"\"https://spacy.io/api/annotation\"\"\"\n",
    "    texts_out = []\n",
    "    for sent in texts:\n",
    "        doc = nlp(\" \".join(sent)) \n",
    "        texts_out.append([token.lemma_ for token in doc if token.pos_ in allowed_postags])\n",
    "    return texts_out"
   ]
  },
  {
   "cell_type": "markdown",
   "metadata": {
    "id": "TM2FxLdKXnNy"
   },
   "source": [
    "Let's call the functions in order.\n",
    "\n",
    "But first download `en_core_web_sm`, a pre-trained English Spacy pipeline optimized for CPU."
   ]
  },
  {
   "cell_type": "code",
   "execution_count": null,
   "metadata": {
    "colab": {
     "base_uri": "https://localhost:8080/"
    },
    "id": "rpXjXOufXnNy",
    "outputId": "d93dc74c-0ed0-4335-ad3f-af9ff8a8e770"
   },
   "outputs": [],
   "source": [
    "!python -m spacy download en_core_web_sm"
   ]
  },
  {
   "cell_type": "code",
   "execution_count": null,
   "metadata": {
    "colab": {
     "base_uri": "https://localhost:8080/"
    },
    "id": "3BWRcDFqXnNz",
    "outputId": "9fc04582-529a-4f04-f2c6-d0a46775eb04"
   },
   "outputs": [],
   "source": [
    "import spacy\n",
    "\n",
    "# Remove Stop Words\n",
    "data_words_nostops = remove_stopwords(data_words)\n",
    "\n",
    "# Form Bigrams\n",
    "data_words_bigrams = make_bigrams(data_words_nostops)\n",
    "\n",
    "# Initialize spacy 'en' model, keeping only tagger component (for efficiency)\n",
    "nlp = spacy.load(\"en_core_web_sm\", disable=['parser', 'ner'])\n",
    "\n",
    "# Do lemmatization keeping only noun, adj, vb, adv\n",
    "data_lemmatized = lemmatization(data_words_bigrams, allowed_postags=['NOUN', 'ADJ', 'VERB', 'ADV'])\n",
    "\n",
    "print(data_lemmatized[:1][0][:30])"
   ]
  },
  {
   "cell_type": "code",
   "execution_count": null,
   "metadata": {
    "colab": {
     "base_uri": "https://localhost:8080/"
    },
    "id": "jcoUhS9xpDLM",
    "outputId": "d0bc88da-54de-48a9-f917-3674d9bd37f5"
   },
   "outputs": [],
   "source": [
    "len(data_lemmatized)"
   ]
  },
  {
   "cell_type": "code",
   "execution_count": null,
   "metadata": {
    "colab": {
     "base_uri": "https://localhost:8080/"
    },
    "id": "m3yS6q63u83I",
    "outputId": "36d76cbf-a3fa-4ba8-b2b9-e39f5b0f77ba"
   },
   "outputs": [],
   "source": [
    "len(data_lemmatized[0])"
   ]
  },
  {
   "cell_type": "markdown",
   "metadata": {
    "id": "SqRx5PqSXnNz"
   },
   "source": [
    "** **\n",
    "#### Step 4: Data transformation: Corpus and Dictionary\n",
    "** **\n",
    "\n",
    "The two main inputs to the LDA topic model are the dictionary (`id2word`) and the `corpus`. Let’s create them."
   ]
  },
  {
   "cell_type": "code",
   "execution_count": null,
   "metadata": {
    "colab": {
     "base_uri": "https://localhost:8080/"
    },
    "id": "9SaqSe9xXnN0",
    "outputId": "7d2e9bd8-167f-4cba-df4f-20af8acc08ff"
   },
   "outputs": [],
   "source": [
    "import gensim.corpora as corpora\n",
    "\n",
    "# Create Dictionary\n",
    "id2word = corpora.Dictionary(data_lemmatized)\n",
    "\n",
    "# Create Corpus\n",
    "texts = data_lemmatized\n",
    "\n",
    "# Term Document Frequency\n",
    "corpus = [id2word.doc2bow(text) for text in texts]\n",
    "\n",
    "# View\n",
    "print(corpus[:1][0][:30])"
   ]
  },
  {
   "cell_type": "code",
   "execution_count": null,
   "metadata": {
    "colab": {
     "base_uri": "https://localhost:8080/",
     "height": 35
    },
    "id": "KvcuA8YOvK40",
    "outputId": "633ed020-e6f6-4bd1-c508-0d8609236855"
   },
   "outputs": [],
   "source": [
    "id2word[1]"
   ]
  },
  {
   "cell_type": "markdown",
   "metadata": {
    "id": "Hnv-PZbtXnN0"
   },
   "source": [
    "** **\n",
    "#### Step 5: Base Model \n",
    "** **\n",
    "\n",
    "We have everything required to train the base LDA model. In addition to the corpus and dictionary, we need to provide the number of topics as well. Apart from that, `alpha` and `eta` are hyperparameters that affect sparsity of the topics. According to the Gensim docs, both defaults to `1.0/num_topics` prior (we'll use default for the base model).\n",
    "\n",
    "`chunksize` controls how many documents are processed at a time in the training algorithm. Increasing chunksize will speed up training, at least as long as the chunk of documents easily fit into memory.\n",
    "\n",
    "`passes` controls how often we train the model on the entire corpus (set to 10). Another word for passes might be \"epochs\". `iterations` is somewhat technical, but essentially it controls how often we repeat a particular loop over each document. It is important to set the number of `passes` and `iterations` high enough."
   ]
  },
  {
   "cell_type": "code",
   "execution_count": null,
   "metadata": {
    "id": "3DxqrNUFXnN1"
   },
   "outputs": [],
   "source": [
    "# Build LDA model\n",
    "lda_model = gensim.models.LdaMulticore(corpus=corpus,\n",
    "                                       id2word=id2word,\n",
    "                                       num_topics=10, \n",
    "                                       random_state=100,\n",
    "                                       chunksize=100,\n",
    "                                       passes=10,\n",
    "                                       per_word_topics=True)"
   ]
  },
  {
   "cell_type": "markdown",
   "metadata": {
    "id": "hFXy_zEpXnN1"
   },
   "source": [
    "** **\n",
    "The above LDA model is built with 10 different topics where each topic is a combination of keywords and each keyword contributes a certain weightage to the topic.\n",
    "\n",
    "We can see the keywords for each topic and the weightage(importance) of each keyword using `lda_model.print_topics()`"
   ]
  },
  {
   "cell_type": "code",
   "execution_count": null,
   "metadata": {
    "colab": {
     "base_uri": "https://localhost:8080/"
    },
    "id": "SpjcPU8PXnN1",
    "outputId": "358e1761-479d-4d16-b0dd-70a54dfb7593"
   },
   "outputs": [],
   "source": [
    "from pprint import pprint\n",
    "\n",
    "# Print the Keyword in the 10 topics\n",
    "pprint(lda_model.print_topics())\n",
    "doc_lda = lda_model[corpus]"
   ]
  },
  {
   "cell_type": "markdown",
   "metadata": {
    "id": "sFUrKaMXXnN2"
   },
   "source": [
    "#### Compute Model Perplexity and Coherence Score\n",
    "\n",
    "Let's calculate the baseline coherence score"
   ]
  },
  {
   "cell_type": "code",
   "execution_count": null,
   "metadata": {
    "colab": {
     "base_uri": "https://localhost:8080/"
    },
    "id": "bCXlNzCWXnN2",
    "outputId": "7233bcb2-6b99-46dc-fd3b-079a2448e424"
   },
   "outputs": [],
   "source": [
    "from gensim.models import CoherenceModel\n",
    "\n",
    "# Compute Coherence Score\n",
    "coherence_model_c_v = CoherenceModel(model=lda_model, texts=data_lemmatized, dictionary=id2word, coherence='c_v')\n",
    "coherence_model_u_mass = CoherenceModel(model=lda_model, corpus=corpus, dictionary=id2word, coherence='u_mass')\n",
    "coherence_c_v = coherence_model_c_v.get_coherence()\n",
    "print('Coherence Score_C_v: ', coherence_c_v)\n",
    "\n",
    "coherence_u_mass = coherence_model_u_mass.get_coherence()\n",
    "print('Coherence Score_umass: ', coherence_u_mass)"
   ]
  },
  {
   "cell_type": "markdown",
   "metadata": {
    "id": "sQE5f77DXnN2"
   },
   "source": [
    "\n",
    "** **\n",
    "#### Step 6: Hyperparameter tuning\n",
    "** **\n",
    "First, let's differentiate between model hyperparameters and model parameters :\n",
    "\n",
    "- `Model hyperparameters` can be thought of as settings for a machine learning algorithm that are tuned by the data scientist before training. Examples would be the number of trees in the random forest, or in our case, number of topics K\n",
    "\n",
    "- `Model parameters` can be thought of as what the model learns during training, such as the weights for each word in a given topic.\n",
    "\n",
    "Now that we have the baseline coherence score for the default LDA model, let's perform a series of sensitivity tests to help determine the following model hyperparameters: \n",
    "- Number of Topics (`k`)\n",
    "- Dirichlet hyperparameter `alpha`: Document-Topic Density\n",
    "- Dirichlet hyperparameter `eta`: Word-Topic Density\n",
    "\n",
    "We'll perform these tests in sequence, one parameter at a time by keeping others constant and run them over the two difference validation corpus sets. We'll use `u_mass` as our choice of metric for performance comparison "
   ]
  },
  {
   "cell_type": "code",
   "execution_count": null,
   "metadata": {
    "id": "jnt_s9-ZXnN3"
   },
   "outputs": [],
   "source": [
    "# supporting function\n",
    "def compute_coherence_values(corpus, dictionary, k, alpha, eta):\n",
    "    \n",
    "    lda_model = gensim.models.LdaMulticore(corpus=corpus,\n",
    "                                           id2word=dictionary,\n",
    "                                           num_topics=k, \n",
    "                                           random_state=100,\n",
    "                                           chunksize=100,\n",
    "                                           passes=10,\n",
    "                                           alpha=alpha,\n",
    "                                           eta=eta)\n",
    "    \n",
    "    # coherence_model = CoherenceModel(model=lda_model, corpus=corpus, \n",
    "    #                                  dictionary=id2word, coherence='u_mass')\n",
    "    \n",
    "    coherence_model = CoherenceModel(model=lda_model, texts=data_lemmatized, \n",
    "                                     dictionary=id2word, coherence='c_v')    \n",
    "    \n",
    "    return coherence_model.get_coherence()"
   ]
  },
  {
   "cell_type": "markdown",
   "metadata": {
    "id": "bIrGYMxYXnN3"
   },
   "source": [
    "Let's call the function, and iterate it over the range of topics, alpha, and beta parameter values"
   ]
  },
  {
   "cell_type": "code",
   "execution_count": null,
   "metadata": {
    "id": "zi-Ctc45XnN3"
   },
   "outputs": [],
   "source": [
    "import numpy as np\n",
    "import tqdm\n",
    "\n",
    "grid = {}\n",
    "grid['Validation_Set'] = {}\n",
    "\n",
    "# Topics range\n",
    "min_topics = 5\n",
    "max_topics = 13\n",
    "step_size = 1\n",
    "topics_range = range(min_topics, max_topics, step_size)\n",
    "\n",
    "# Alpha parameters\n",
    "alphas = list(np.arange(0.31, 1, 0.3))\n",
    "\n",
    "# Eta parameters\n",
    "etas = list(np.arange(0.31, 1, 0.3))\n",
    "\n",
    "# Validation sets\n",
    "num_of_docs = len(corpus)\n",
    "valid_set = gensim.utils.ClippedCorpus(corpus, int(num_of_docs*0.75))\n",
    "\n",
    "results = {'Number of topics': [],\n",
    "           'Alpha': [],\n",
    "           'Eta': [],\n",
    "           'Coherence': []}\n",
    "\n",
    "# Can take a long time to run\n",
    "pbar = tqdm.tqdm(total=(len(etas)*len(alphas)*len(topics_range)))\n",
    "\n",
    "# iterate through number of topics\n",
    "for k in topics_range:\n",
    "    # iterate through alpha values\n",
    "    for alpha in alphas:\n",
    "        # iterare through beta values\n",
    "        for eta in etas:\n",
    "            # get the coherence score for the given parameters\n",
    "            coherence = compute_coherence_values(corpus=valid_set, \n",
    "                                                  dictionary=id2word, \n",
    "                                                  k=k, \n",
    "                                                  alpha=alpha, \n",
    "                                                  eta=eta)\n",
    "            # Save the model results\n",
    "            results['Number of topics'].append(k)\n",
    "            results['Alpha'].append(alpha)\n",
    "            results['Eta'].append(eta)\n",
    "            results['Coherence'].append(coherence)\n",
    "            \n",
    "            pbar.update(1)\n",
    "\n",
    "pbar.close()\n",
    "\n",
    "results = pd.DataFrame(results)            \n",
    "results.to_csv('lda_tuning_results.csv', index=False)"
   ]
  },
  {
   "cell_type": "code",
   "execution_count": null,
   "metadata": {
    "id": "j5H3A2bHrrI7"
   },
   "outputs": [],
   "source": [
    "results"
   ]
  },
  {
   "cell_type": "code",
   "execution_count": null,
   "metadata": {
    "id": "j0vEL65q_s_k"
   },
   "outputs": [],
   "source": [
    "import matplotlib.pyplot as plt\n",
    "\n",
    "fig = plt.figure()\n",
    "ax = fig.add_subplot()\n",
    "ax.plot(results['Number of topics'], results['Coherence'], 'ok')\n",
    "ax.set_xlabel('Number of topics')\n",
    "ax.set_ylabel('Coherence -- c_v')"
   ]
  },
  {
   "cell_type": "code",
   "execution_count": null,
   "metadata": {
    "id": "VM-ppGOmsbHn"
   },
   "outputs": [],
   "source": [
    "results.loc[results['Coherence'].argmax()]"
   ]
  },
  {
   "cell_type": "markdown",
   "metadata": {
    "id": "SQh3D8iMXnN4"
   },
   "source": [
    "** **\n",
    "#### Step 7: Final Model\n",
    "** **\n",
    "\n",
    "Based on the above model selection, let's train the final model with parameters yielding highest coherence score."
   ]
  },
  {
   "cell_type": "code",
   "execution_count": null,
   "metadata": {
    "id": "-K8yTr2CXnN4"
   },
   "outputs": [],
   "source": [
    "num_topics = 9\n",
    "\n",
    "lda_model = gensim.models.LdaMulticore(corpus=corpus,\n",
    "                                       id2word=id2word,\n",
    "                                       num_topics=num_topics, \n",
    "                                       random_state=100,\n",
    "                                       chunksize=100,\n",
    "                                       passes=10,\n",
    "                                       alpha=0.91,\n",
    "                                       eta=0.91)"
   ]
  },
  {
   "cell_type": "code",
   "execution_count": null,
   "metadata": {
    "id": "xHIBc165XnN4"
   },
   "outputs": [],
   "source": [
    "from pprint import pprint\n",
    "\n",
    "# Print the Keyword in the 10 topics\n",
    "pprint(lda_model.print_topics())\n",
    "doc_lda = lda_model[corpus]"
   ]
  },
  {
   "cell_type": "markdown",
   "metadata": {
    "id": "JsNl4Kl2XnN5"
   },
   "source": [
    "** **\n",
    "#### Step 8: Visualize Results\n",
    "** **"
   ]
  },
  {
   "cell_type": "code",
   "execution_count": null,
   "metadata": {
    "id": "vcIw1KFKXnN5"
   },
   "outputs": [],
   "source": [
    "import pyLDAvis.gensim_models as gensimvis\n",
    "#import pyLDAvis.gensim\n",
    "import pickle \n",
    "import pyLDAvis\n",
    "\n",
    "# Visualize the topics\n",
    "pyLDAvis.enable_notebook()\n",
    "\n",
    "LDAvis_data_filepath = os.path.join(f'ldavis_tuned_{num_topics}')\n",
    "\n",
    "# this is a bit time consuming - make the if statement True\n",
    "# if you want to execute visualization prep yourself\n",
    "if True:\n",
    "\n",
    "    LDAvis_prepared = gensimvis.prepare(lda_model, corpus, id2word)\n",
    "    with open(LDAvis_data_filepath, 'wb') as f:\n",
    "      \n",
    "        pickle.dump(LDAvis_prepared, f)\n",
    "\n",
    "# load the pre-prepared pyLDAvis data from disk\n",
    "with open(LDAvis_data_filepath, 'rb') as f:\n",
    "    LDAvis_prepared = pickle.load(f)\n",
    "\n",
    "pyLDAvis.save_html(LDAvis_prepared, f'ldavis_tuned_{num_topics}.html')\n",
    "\n",
    "LDAvis_prepared"
   ]
  },
  {
   "cell_type": "markdown",
   "metadata": {
    "id": "O7mIUYSM-5qu"
   },
   "source": [
    "** **\n",
    "#### Step 9: Predict\n",
    "** **"
   ]
  },
  {
   "cell_type": "code",
   "execution_count": null,
   "metadata": {
    "id": "V4w8YrUA8WA8"
   },
   "outputs": [],
   "source": [
    "unseen_doc = \"\"\"The replica method is a non-rigorous but widely-accepted \n",
    "technique from statistical physics used in the asymptotic analysis of large, random, nonlinear problems. \n",
    "This paper applies the replica method to non-Gaussian maximum a posteriori (MAP) estimation. \n",
    "It is shown that with random linear measurements and Gaussian noise, \n",
    "the asymptotic behavior of the MAP estimate of an n-dimensional\n",
    "vector ?decouples? as n scalar MAP estimators. The result is a counterpart to Guo\n",
    "and Verd?u?s replica analysis of minimum mean-squared error estimation.\n",
    "The replica MAP analysis can be readily applied to many estimators used in\n",
    "compressed sensing, including basis pursuit, lasso, linear estimation with thresholding, \n",
    "and zero norm-regularized estimation. In the case of lasso estimation\n",
    "the scalar estimator reduces to a soft-thresholding operator, \n",
    "and for zero normregularized estimation it reduces to a hard-threshold. \n",
    "Among other benefits, the replica method provides a computationally-tractable method \n",
    "for exactly computing various performance metrics including mean-squared error \n",
    "and sparsity pattern recovery probability.\"\"\"\n",
    "\n",
    "# Data preprocessing step for the unseen document\n",
    "unseen_words = gensim.utils.simple_preprocess(str(unseen_doc), deacc=True)\n",
    "unseen_words_nostops = remove_stopwords([unseen_words])\n",
    "unseen_words_bigrams = make_bigrams(unseen_words_nostops)\n",
    "unseen_lemmatized = lemmatization(unseen_words_bigrams, allowed_postags=['NOUN', 'ADJ', 'VERB', 'ADV'])\n",
    "bow_vector = id2word.doc2bow(unseen_lemmatized[0])\n",
    "\n",
    "for index, score in sorted(lda_model[bow_vector], key=lambda tup: -1*tup[1]):\n",
    "    print(f\"Score: {score}\\t Topic: {lda_model.print_topic(index, 5)}\")"
   ]
  },
  {
   "cell_type": "markdown",
   "metadata": {
    "id": "fDMxZTK1XnN6"
   },
   "source": [
    "\n",
    "#### References:\n",
    "1. http://qpleple.com/perplexity-to-evaluate-topic-models/\n",
    "2. https://www.amazon.com/Machine-Learning-Probabilistic-Perspective-Computation/dp/0262018020\n",
    "3. https://papers.nips.cc/paper/3700-reading-tea-leaves-how-humans-interpret-topic-models.pdf\n",
    "4. https://github.com/mattilyra/pydataberlin-2017/blob/master/notebook/EvaluatingUnsupervisedModels.ipynb\n",
    "5. https://www.machinelearningplus.com/nlp/topic-modeling-gensim-python/\n",
    "6. http://svn.aksw.org/papers/2015/WSDM_Topic_Evaluation/public.pdf\n",
    "7. http://palmetto.aksw.org/palmetto-webapp/"
   ]
  }
 ],
 "metadata": {
  "colab": {
   "provenance": []
  },
  "kernelspec": {
   "display_name": "Python 3 (ipykernel)",
   "language": "python",
   "name": "python3"
  },
  "language_info": {
   "codemirror_mode": {
    "name": "ipython",
    "version": 3
   },
   "file_extension": ".py",
   "mimetype": "text/x-python",
   "name": "python",
   "nbconvert_exporter": "python",
   "pygments_lexer": "ipython3",
   "version": "3.12.3"
  }
 },
 "nbformat": 4,
 "nbformat_minor": 4
}
