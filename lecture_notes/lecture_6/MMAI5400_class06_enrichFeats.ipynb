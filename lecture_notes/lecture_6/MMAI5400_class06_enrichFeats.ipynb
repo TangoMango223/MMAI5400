{
 "cells": [
  {
   "cell_type": "markdown",
   "metadata": {},
   "source": [
    "# Enriched feature engineering for NLP\n",
    "\n",
    "By HK Turesson\n",
    "\n",
    "This tutorial explores how to enrich BOW representations with non-standard features such as part-of-speech (POS) tags, dependencies, word shapes, etc. \n",
    "\n",
    "We will use [spaCy](https://spacy.io/) - an advanced NLP library - to enrich the documents.\n",
    "\n",
    "## Imports"
   ]
  },
  {
   "cell_type": "code",
   "execution_count": 60,
   "metadata": {
    "id": "c1hNukC5o2br"
   },
   "outputs": [],
   "source": [
    "import spacy\n",
    "import pandas as pd\n",
    "import numpy as np\n",
    "from sklearn.feature_extraction.text import TfidfVectorizer\n",
    "from sklearn.naive_bayes import MultinomialNB"
   ]
  },
  {
   "cell_type": "code",
   "execution_count": 61,
   "metadata": {},
   "outputs": [],
   "source": [
    "# pip install pandas numpy scikit-learn"
   ]
  },
  {
   "cell_type": "markdown",
   "metadata": {},
   "source": [
    "## Load spaCy's English pipeline\n",
    "[`en_core_web_sm`](https://spacy.io/models/en#en_core_web_sm) is an English spaCy pipeline optimized for CPU ([see here](https://spacy.io/models/en#en_core_web_sm) for details). It's components are: `tok2vec`, `tagger`, `parser`, `senter`, `ner`, `attribute_ruler`, `lemmatizer`.\n",
    "`en_core_web_sm` is already installed on Google Colab, however if get an error when loading it try downloading with `python -m spacy download en_core_web_sm`."
   ]
  },
  {
   "cell_type": "code",
   "execution_count": 62,
   "metadata": {
    "id": "QFUDuE4QpZrN"
   },
   "outputs": [],
   "source": [
    "nlp = spacy.load(\"en_core_web_sm\")"
   ]
  },
  {
   "cell_type": "code",
   "execution_count": 63,
   "metadata": {},
   "outputs": [],
   "source": [
    "# python -m spacy download en_core_web_sm"
   ]
  },
  {
   "cell_type": "markdown",
   "metadata": {},
   "source": [
    "## Tokenization with spaCy"
   ]
  },
  {
   "cell_type": "code",
   "execution_count": 64,
   "metadata": {
    "id": "WZODRcbVo352"
   },
   "outputs": [],
   "source": [
    "doc = nlp(\"Apple is looking at buying U.K. startup for $1 billion\")"
   ]
  },
  {
   "cell_type": "code",
   "execution_count": 65,
   "metadata": {
    "colab": {
     "base_uri": "https://localhost:8080/"
    },
    "id": "fxprlGEapKrD",
    "outputId": "72bd1eb6-5ad9-45dc-83a8-57e640560b50",
    "scrolled": true
   },
   "outputs": [
    {
     "name": "stdout",
     "output_type": "stream",
     "text": [
      "Text\t\tLemma\tPOS\tTag\tDep\tShape\talpha\tstop\n",
      "--------------------------------------------------------------------------------\n",
      "Apple\t\tApple\tPROPN\tNNP\tnsubj\tXxxxx\tTrue\tFalse\n",
      "is\t\tbe\tAUX\tVBZ\taux\txx\tTrue\tTrue\n",
      "looking\t\tlook\tVERB\tVBG\tROOT\txxxx\tTrue\tFalse\n",
      "at\t\tat\tADP\tIN\tprep\txx\tTrue\tTrue\n",
      "buying\t\tbuy\tVERB\tVBG\tpcomp\txxxx\tTrue\tFalse\n",
      "U.K.\t\tU.K.\tPROPN\tNNP\tnsubj\tX.X.\tFalse\tFalse\n",
      "startup\t\tstartup\tVERB\tVBD\tccomp\txxxx\tTrue\tFalse\n",
      "for\t\tfor\tADP\tIN\tprep\txxx\tTrue\tTrue\n",
      "$\t\t$\tSYM\t$\tquantmod\t$\tFalse\tFalse\n",
      "1\t\t1\tNUM\tCD\tcompound\td\tFalse\tFalse\n",
      "billion\t\tbillion\tNUM\tCD\tpobj\txxxx\tTrue\tFalse\n"
     ]
    }
   ],
   "source": [
    "print('Text\\t\\tLemma\\tPOS\\tTag\\tDep\\tShape\\talpha\\tstop')\n",
    "print('-'*80)\n",
    "for token in doc:\n",
    "    print(f'{token.text}\\t\\t{token.lemma_}\\t{token.pos_}\\t{token.tag_}\\t{token.dep_}\\t{token.shape_}\\t{token.is_alpha}\\t{token.is_stop}')"
   ]
  },
  {
   "cell_type": "code",
   "execution_count": 66,
   "metadata": {},
   "outputs": [
    {
     "name": "stdout",
     "output_type": "stream",
     "text": [
      "Requirement already satisfied: spacy in /Users/christine/VSCode/MMAI5400_remote/MMAI5400/.venv/lib/python3.12/site-packages (3.8.2)\n",
      "Requirement already satisfied: spacy-legacy<3.1.0,>=3.0.11 in /Users/christine/VSCode/MMAI5400_remote/MMAI5400/.venv/lib/python3.12/site-packages (from spacy) (3.0.12)\n",
      "Requirement already satisfied: spacy-loggers<2.0.0,>=1.0.0 in /Users/christine/VSCode/MMAI5400_remote/MMAI5400/.venv/lib/python3.12/site-packages (from spacy) (1.0.5)\n",
      "Requirement already satisfied: murmurhash<1.1.0,>=0.28.0 in /Users/christine/VSCode/MMAI5400_remote/MMAI5400/.venv/lib/python3.12/site-packages (from spacy) (1.0.10)\n",
      "Requirement already satisfied: cymem<2.1.0,>=2.0.2 in /Users/christine/VSCode/MMAI5400_remote/MMAI5400/.venv/lib/python3.12/site-packages (from spacy) (2.0.8)\n",
      "Requirement already satisfied: preshed<3.1.0,>=3.0.2 in /Users/christine/VSCode/MMAI5400_remote/MMAI5400/.venv/lib/python3.12/site-packages (from spacy) (3.0.9)\n",
      "Requirement already satisfied: thinc<8.4.0,>=8.3.0 in /Users/christine/VSCode/MMAI5400_remote/MMAI5400/.venv/lib/python3.12/site-packages (from spacy) (8.3.2)\n",
      "Requirement already satisfied: wasabi<1.2.0,>=0.9.1 in /Users/christine/VSCode/MMAI5400_remote/MMAI5400/.venv/lib/python3.12/site-packages (from spacy) (1.1.3)\n",
      "Requirement already satisfied: srsly<3.0.0,>=2.4.3 in /Users/christine/VSCode/MMAI5400_remote/MMAI5400/.venv/lib/python3.12/site-packages (from spacy) (2.4.8)\n",
      "Requirement already satisfied: catalogue<2.1.0,>=2.0.6 in /Users/christine/VSCode/MMAI5400_remote/MMAI5400/.venv/lib/python3.12/site-packages (from spacy) (2.0.10)\n",
      "Requirement already satisfied: weasel<0.5.0,>=0.1.0 in /Users/christine/VSCode/MMAI5400_remote/MMAI5400/.venv/lib/python3.12/site-packages (from spacy) (0.4.1)\n",
      "Requirement already satisfied: typer<1.0.0,>=0.3.0 in /Users/christine/VSCode/MMAI5400_remote/MMAI5400/.venv/lib/python3.12/site-packages (from spacy) (0.12.5)\n",
      "Requirement already satisfied: tqdm<5.0.0,>=4.38.0 in /Users/christine/VSCode/MMAI5400_remote/MMAI5400/.venv/lib/python3.12/site-packages (from spacy) (4.66.5)\n",
      "Requirement already satisfied: requests<3.0.0,>=2.13.0 in /Users/christine/VSCode/MMAI5400_remote/MMAI5400/.venv/lib/python3.12/site-packages (from spacy) (2.32.3)\n",
      "Requirement already satisfied: pydantic!=1.8,!=1.8.1,<3.0.0,>=1.7.4 in /Users/christine/VSCode/MMAI5400_remote/MMAI5400/.venv/lib/python3.12/site-packages (from spacy) (2.9.2)\n",
      "Requirement already satisfied: jinja2 in /Users/christine/VSCode/MMAI5400_remote/MMAI5400/.venv/lib/python3.12/site-packages (from spacy) (3.1.4)\n",
      "Requirement already satisfied: setuptools in /Users/christine/VSCode/MMAI5400_remote/MMAI5400/.venv/lib/python3.12/site-packages (from spacy) (75.2.0)\n",
      "Requirement already satisfied: packaging>=20.0 in /Users/christine/VSCode/MMAI5400_remote/MMAI5400/.venv/lib/python3.12/site-packages (from spacy) (24.1)\n",
      "Requirement already satisfied: langcodes<4.0.0,>=3.2.0 in /Users/christine/VSCode/MMAI5400_remote/MMAI5400/.venv/lib/python3.12/site-packages (from spacy) (3.4.1)\n",
      "Requirement already satisfied: numpy>=1.19.0 in /Users/christine/VSCode/MMAI5400_remote/MMAI5400/.venv/lib/python3.12/site-packages (from spacy) (2.0.2)\n",
      "Requirement already satisfied: language-data>=1.2 in /Users/christine/VSCode/MMAI5400_remote/MMAI5400/.venv/lib/python3.12/site-packages (from langcodes<4.0.0,>=3.2.0->spacy) (1.2.0)\n",
      "Requirement already satisfied: annotated-types>=0.6.0 in /Users/christine/VSCode/MMAI5400_remote/MMAI5400/.venv/lib/python3.12/site-packages (from pydantic!=1.8,!=1.8.1,<3.0.0,>=1.7.4->spacy) (0.7.0)\n",
      "Requirement already satisfied: pydantic-core==2.23.4 in /Users/christine/VSCode/MMAI5400_remote/MMAI5400/.venv/lib/python3.12/site-packages (from pydantic!=1.8,!=1.8.1,<3.0.0,>=1.7.4->spacy) (2.23.4)\n",
      "Requirement already satisfied: typing-extensions>=4.6.1 in /Users/christine/VSCode/MMAI5400_remote/MMAI5400/.venv/lib/python3.12/site-packages (from pydantic!=1.8,!=1.8.1,<3.0.0,>=1.7.4->spacy) (4.12.2)\n",
      "Requirement already satisfied: charset-normalizer<4,>=2 in /Users/christine/VSCode/MMAI5400_remote/MMAI5400/.venv/lib/python3.12/site-packages (from requests<3.0.0,>=2.13.0->spacy) (3.4.0)\n",
      "Requirement already satisfied: idna<4,>=2.5 in /Users/christine/VSCode/MMAI5400_remote/MMAI5400/.venv/lib/python3.12/site-packages (from requests<3.0.0,>=2.13.0->spacy) (3.10)\n",
      "Requirement already satisfied: urllib3<3,>=1.21.1 in /Users/christine/VSCode/MMAI5400_remote/MMAI5400/.venv/lib/python3.12/site-packages (from requests<3.0.0,>=2.13.0->spacy) (2.2.3)\n",
      "Requirement already satisfied: certifi>=2017.4.17 in /Users/christine/VSCode/MMAI5400_remote/MMAI5400/.venv/lib/python3.12/site-packages (from requests<3.0.0,>=2.13.0->spacy) (2024.8.30)\n",
      "Requirement already satisfied: blis<1.1.0,>=1.0.0 in /Users/christine/VSCode/MMAI5400_remote/MMAI5400/.venv/lib/python3.12/site-packages (from thinc<8.4.0,>=8.3.0->spacy) (1.0.1)\n",
      "Requirement already satisfied: confection<1.0.0,>=0.0.1 in /Users/christine/VSCode/MMAI5400_remote/MMAI5400/.venv/lib/python3.12/site-packages (from thinc<8.4.0,>=8.3.0->spacy) (0.1.5)\n",
      "Requirement already satisfied: click>=8.0.0 in /Users/christine/VSCode/MMAI5400_remote/MMAI5400/.venv/lib/python3.12/site-packages (from typer<1.0.0,>=0.3.0->spacy) (8.1.7)\n",
      "Requirement already satisfied: shellingham>=1.3.0 in /Users/christine/VSCode/MMAI5400_remote/MMAI5400/.venv/lib/python3.12/site-packages (from typer<1.0.0,>=0.3.0->spacy) (1.5.4)\n",
      "Requirement already satisfied: rich>=10.11.0 in /Users/christine/VSCode/MMAI5400_remote/MMAI5400/.venv/lib/python3.12/site-packages (from typer<1.0.0,>=0.3.0->spacy) (13.9.2)\n",
      "Requirement already satisfied: cloudpathlib<1.0.0,>=0.7.0 in /Users/christine/VSCode/MMAI5400_remote/MMAI5400/.venv/lib/python3.12/site-packages (from weasel<0.5.0,>=0.1.0->spacy) (0.19.0)\n",
      "Requirement already satisfied: smart-open<8.0.0,>=5.2.1 in /Users/christine/VSCode/MMAI5400_remote/MMAI5400/.venv/lib/python3.12/site-packages (from weasel<0.5.0,>=0.1.0->spacy) (7.0.5)\n",
      "Requirement already satisfied: MarkupSafe>=2.0 in /Users/christine/VSCode/MMAI5400_remote/MMAI5400/.venv/lib/python3.12/site-packages (from jinja2->spacy) (3.0.1)\n",
      "Requirement already satisfied: marisa-trie>=0.7.7 in /Users/christine/VSCode/MMAI5400_remote/MMAI5400/.venv/lib/python3.12/site-packages (from language-data>=1.2->langcodes<4.0.0,>=3.2.0->spacy) (1.2.1)\n",
      "Requirement already satisfied: markdown-it-py>=2.2.0 in /Users/christine/VSCode/MMAI5400_remote/MMAI5400/.venv/lib/python3.12/site-packages (from rich>=10.11.0->typer<1.0.0,>=0.3.0->spacy) (3.0.0)\n",
      "Requirement already satisfied: pygments<3.0.0,>=2.13.0 in /Users/christine/VSCode/MMAI5400_remote/MMAI5400/.venv/lib/python3.12/site-packages (from rich>=10.11.0->typer<1.0.0,>=0.3.0->spacy) (2.18.0)\n",
      "Requirement already satisfied: wrapt in /Users/christine/VSCode/MMAI5400_remote/MMAI5400/.venv/lib/python3.12/site-packages (from smart-open<8.0.0,>=5.2.1->weasel<0.5.0,>=0.1.0->spacy) (1.16.0)\n",
      "Requirement already satisfied: mdurl~=0.1 in /Users/christine/VSCode/MMAI5400_remote/MMAI5400/.venv/lib/python3.12/site-packages (from markdown-it-py>=2.2.0->rich>=10.11.0->typer<1.0.0,>=0.3.0->spacy) (0.1.2)\n"
     ]
    }
   ],
   "source": [
    "!pip install -U spacy"
   ]
  },
  {
   "cell_type": "code",
   "execution_count": 67,
   "metadata": {},
   "outputs": [],
   "source": [
    "# !python -m spacy download en_core_web_sm"
   ]
  },
  {
   "cell_type": "markdown",
   "metadata": {},
   "source": [
    "See spaCy's [linguistic features documentation](https://spacy.io/usage/linguistic-features) for full explaination.\n",
    "\n",
    "## Data\n",
    "\n",
    "We will use the dataset [BANKING77](https://huggingface.co/datasets/PolyAI/banking77).\n",
    "BANKING77 is composed of online banking queries annotated with their corresponding intents. It provides a very fine-grained set of intents in the banking domain. It comprises 13,083 customer service queries labelled with 77 intents. It focuses on fine-grained single-domain intent detection."
   ]
  },
  {
   "cell_type": "code",
   "execution_count": 68,
   "metadata": {
    "colab": {
     "base_uri": "https://localhost:8080/"
    },
    "id": "Bs1y0xoSrmff",
    "outputId": "ba5233d8-bc68-4b48-92b4-f140dc8146a1"
   },
   "outputs": [],
   "source": [
    "# !unzip banking_data.zip"
   ]
  },
  {
   "cell_type": "markdown",
   "metadata": {},
   "source": [
    "**Task**: Read `train.csv` and `test.csv,` storing the data with the names `train_data` and `test_data,` respectively.\n",
    "\n",
    "**Tutorial question 1**: What is the last text in `train_data`?\n",
    "\n",
    "**Tutorial question 2**: How many unique classes are in the data set?"
   ]
  },
  {
   "cell_type": "code",
   "execution_count": 69,
   "metadata": {
    "id": "9B45yldPo81Y"
   },
   "outputs": [],
   "source": [
    "train_data = pd.read_csv('banking_data/train.csv')\n",
    "test_data = pd.read_csv('banking_data/test.csv')\n"
   ]
  },
  {
   "cell_type": "code",
   "execution_count": 70,
   "metadata": {
    "colab": {
     "base_uri": "https://localhost:8080/",
     "height": 206
    },
    "id": "75DNmS2asi8X",
    "outputId": "7ffe0b3b-7780-4c2c-e2ff-e46b1eb3c82b"
   },
   "outputs": [
    {
     "data": {
      "text/html": [
       "<div>\n",
       "<style scoped>\n",
       "    .dataframe tbody tr th:only-of-type {\n",
       "        vertical-align: middle;\n",
       "    }\n",
       "\n",
       "    .dataframe tbody tr th {\n",
       "        vertical-align: top;\n",
       "    }\n",
       "\n",
       "    .dataframe thead th {\n",
       "        text-align: right;\n",
       "    }\n",
       "</style>\n",
       "<table border=\"1\" class=\"dataframe\">\n",
       "  <thead>\n",
       "    <tr style=\"text-align: right;\">\n",
       "      <th></th>\n",
       "      <th>text</th>\n",
       "      <th>category</th>\n",
       "    </tr>\n",
       "  </thead>\n",
       "  <tbody>\n",
       "    <tr>\n",
       "      <th>9998</th>\n",
       "      <td>You provide support in what countries?</td>\n",
       "      <td>country_support</td>\n",
       "    </tr>\n",
       "    <tr>\n",
       "      <th>9999</th>\n",
       "      <td>What countries are you supporting?</td>\n",
       "      <td>country_support</td>\n",
       "    </tr>\n",
       "    <tr>\n",
       "      <th>10000</th>\n",
       "      <td>What countries are getting support?</td>\n",
       "      <td>country_support</td>\n",
       "    </tr>\n",
       "    <tr>\n",
       "      <th>10001</th>\n",
       "      <td>Are cards available in the EU?</td>\n",
       "      <td>country_support</td>\n",
       "    </tr>\n",
       "    <tr>\n",
       "      <th>10002</th>\n",
       "      <td>Which countries are represented?</td>\n",
       "      <td>country_support</td>\n",
       "    </tr>\n",
       "  </tbody>\n",
       "</table>\n",
       "</div>"
      ],
      "text/plain": [
       "                                         text         category\n",
       "9998   You provide support in what countries?  country_support\n",
       "9999       What countries are you supporting?  country_support\n",
       "10000     What countries are getting support?  country_support\n",
       "10001          Are cards available in the EU?  country_support\n",
       "10002        Which countries are represented?  country_support"
      ]
     },
     "execution_count": 70,
     "metadata": {},
     "output_type": "execute_result"
    }
   ],
   "source": [
    "# Get last text in train_data\n",
    "train_data.tail()"
   ]
  },
  {
   "cell_type": "code",
   "execution_count": 71,
   "metadata": {
    "scrolled": true
   },
   "outputs": [
    {
     "data": {
      "text/plain": [
       "text        Which countries are represented?\n",
       "category                     country_support\n",
       "Name: 10002, dtype: object"
      ]
     },
     "execution_count": 71,
     "metadata": {},
     "output_type": "execute_result"
    }
   ],
   "source": [
    "train_data.iloc[-1]"
   ]
  },
  {
   "cell_type": "code",
   "execution_count": 72,
   "metadata": {},
   "outputs": [
    {
     "data": {
      "text/plain": [
       "77"
      ]
     },
     "execution_count": 72,
     "metadata": {},
     "output_type": "execute_result"
    }
   ],
   "source": [
    "# Unique classes\n",
    "train_data[\"category\"].value_counts()\n",
    "len(train_data[\"category\"].value_counts())"
   ]
  },
  {
   "cell_type": "code",
   "execution_count": 73,
   "metadata": {},
   "outputs": [
    {
     "data": {
      "text/plain": [
       "77"
      ]
     },
     "execution_count": 73,
     "metadata": {},
     "output_type": "execute_result"
    }
   ],
   "source": [
    "train_data[\"category\"].nunique()"
   ]
  },
  {
   "cell_type": "markdown",
   "metadata": {},
   "source": [
    "## Pre-processing\n",
    "\n",
    "Applying spaCy's `nlp()` pipeline to a document takes a bit of time. If possible, it is best to only do it once. Thus, we'll do it once, store the output in `train_docs` and `test_docs` and then use these pre-computed lists repeatedly."
   ]
  },
  {
   "cell_type": "code",
   "execution_count": 74,
   "metadata": {
    "id": "MrLoIap-sk3U"
   },
   "outputs": [],
   "source": [
    "train_docs, test_docs = [], []   "
   ]
  },
  {
   "cell_type": "code",
   "execution_count": 75,
   "metadata": {},
   "outputs": [],
   "source": [
    "for i, row in train_data.iterrows():\n",
    "  train_docs.append(nlp(row['text']))\n",
    "\n",
    "for i, row in test_data.iterrows():\n",
    "  test_docs.append(nlp(row['text'])) "
   ]
  },
  {
   "cell_type": "code",
   "execution_count": 76,
   "metadata": {},
   "outputs": [],
   "source": [
    "# train_data[\"text\"]"
   ]
  },
  {
   "cell_type": "markdown",
   "metadata": {
    "id": "uALL3CcY3RZD"
   },
   "source": [
    "### Helper function to enrich features\n",
    "\n",
    "Concatenating the linguistic features into a new long string (i.e. un-tokenized document) and then tokenizing it again using sklearn's `TfidfVectorizer` is a bit hacky. However, here we do it for educational puproses."
   ]
  },
  {
   "cell_type": "code",
   "execution_count": 77,
   "metadata": {
    "id": "x1vAypVztzhZ"
   },
   "outputs": [],
   "source": [
    "def enrich_features(docs, features):\n",
    "    \"\"\"\n",
    "    Arguments\n",
    "    ---------\n",
    "        docs     : A list of outputs from spaCy's nlp()\n",
    "        features : A dictionary with the following keys\n",
    "                    'keep_noalpha', \n",
    "                    'rm_stop',\n",
    "                    'text',\n",
    "                    'lemma',\n",
    "                    'pos',\n",
    "                    'tag',\n",
    "                    'dep',\n",
    "                    'shape'\n",
    "                   and boolean values.\n",
    "    \n",
    "                   E.g.:\n",
    "                       features = {\n",
    "                        'keep_noalpha': False,\n",
    "                        'rm_stop': True,\n",
    "                        'text': False,\n",
    "                        'lemma': True,\n",
    "                        'pos': False,\n",
    "                        'tag': True,\n",
    "                        'dep': False,\n",
    "                        'shape': False}\n",
    "    Return\n",
    "    ------\n",
    "    enriched : A list of enriched docs.\n",
    "    \n",
    "    \"\"\"\n",
    "    \n",
    "    enriched = []\n",
    "    \n",
    "    for doc in docs:\n",
    "      \n",
    "        enriched_doc = ''\n",
    "          \n",
    "        for token in doc:\n",
    "            \n",
    "            enriched_token = ''\n",
    "            \n",
    "            if features['keep_noalpha'] or token.is_alpha:\n",
    "              \n",
    "                if not (features['rm_stop'] and token.is_stop):        \n",
    "                  \n",
    "                    if features['text']:\n",
    "                        enriched_token = f'{enriched_token}{token.text}'\n",
    "                    if features['lemma']:\n",
    "                        enriched_token = f'{enriched_token}{token.lemma_}'\n",
    "                    if features['pos']:\n",
    "                        enriched_token = f'{enriched_token}{token.pos_}'\n",
    "                    if features['tag']:\n",
    "                        enriched_token = f'{enriched_token}{token.tag_}'                  \n",
    "                    if features['dep']:\n",
    "                        enriched_token = f'{enriched_token}{token.dep_}'\n",
    "                    if features['shape']:\n",
    "                        enriched_token = f'{enriched_token}{token.shape_}'                  \n",
    "                \n",
    "                    enriched_doc = f'{enriched_doc} {enriched_token}'\n",
    "                    \n",
    "        enriched.append(enriched_doc)\n",
    "    \n",
    "    return enriched"
   ]
  },
  {
   "cell_type": "code",
   "execution_count": 78,
   "metadata": {},
   "outputs": [],
   "source": [
    "# What the fucntion above does?\n",
    "# Iterates through them, and for each doc, if you want to keep no-alpha, \"rm_stop\", whether or not to remove stop words\n",
    "# token.text, add it, if you want to keep lemma, which ones you want to augment and added to enriched_doc"
   ]
  },
  {
   "cell_type": "code",
   "execution_count": 79,
   "metadata": {},
   "outputs": [],
   "source": [
    "# repeat the same steps for training doc and test doc"
   ]
  },
  {
   "cell_type": "code",
   "execution_count": 80,
   "metadata": {
    "id": "nYkqZ04O3xxe"
   },
   "outputs": [],
   "source": [
    "features = {\n",
    "    'keep_noalpha': False,\n",
    "    'rm_stop': True,\n",
    "    'text': False,\n",
    "    'lemma': True,\n",
    "    'pos': False,\n",
    "    'tag': True,\n",
    "    'dep': False,\n",
    "    'shape': False}\n",
    "train = enrich_features(train_docs, features)\n",
    "test = enrich_features(test_docs, features)"
   ]
  },
  {
   "cell_type": "code",
   "execution_count": 81,
   "metadata": {
    "colab": {
     "base_uri": "https://localhost:8080/"
    },
    "id": "VKrHOeRxurqM",
    "outputId": "1e628449-5227-4231-cde3-ef7a2737ada4"
   },
   "outputs": [
    {
     "data": {
      "text/plain": [
       "[' waitVBG cardNN',\n",
       " ' cardNN arriveVBN weekNNS',\n",
       " ' waitVBG weekNN cardNN comeVBG',\n",
       " ' trackVB cardNN processNN deliveryNN',\n",
       " ' knowVB cardNN loseVBN']"
      ]
     },
     "execution_count": 81,
     "metadata": {},
     "output_type": "execute_result"
    }
   ],
   "source": [
    "train[:5]\n",
    "\n",
    "# the codification is the same as the text, but the words are different\n",
    "# waitVBG, card NN -> this means \n",
    "\n",
    "\n",
    "# Create new token with feature that we wanted\n",
    "# Put it together in the string we see below\n",
    "\n",
    "# Why? SKLEARN tokenizer will put it together, so SKLEARN can tokenize \n",
    "\n",
    "\n",
    "# Are we checking dependency here?\n",
    "# Yes we are, apple is a nominal subject, looking is a verb, U.K. is a country, startup is a nominal object, and 1 billion is a number.\n",
    "\n",
    "# figure out which combination is next"
   ]
  },
  {
   "cell_type": "code",
   "execution_count": 82,
   "metadata": {
    "colab": {
     "base_uri": "https://localhost:8080/",
     "height": 206
    },
    "id": "leNV95eQ0eZ5",
    "outputId": "48393a55-e582-43b4-d245-57b6abdabce5",
    "scrolled": true
   },
   "outputs": [
    {
     "data": {
      "text/html": [
       "<div>\n",
       "<style scoped>\n",
       "    .dataframe tbody tr th:only-of-type {\n",
       "        vertical-align: middle;\n",
       "    }\n",
       "\n",
       "    .dataframe tbody tr th {\n",
       "        vertical-align: top;\n",
       "    }\n",
       "\n",
       "    .dataframe thead th {\n",
       "        text-align: right;\n",
       "    }\n",
       "</style>\n",
       "<table border=\"1\" class=\"dataframe\">\n",
       "  <thead>\n",
       "    <tr style=\"text-align: right;\">\n",
       "      <th></th>\n",
       "      <th>text</th>\n",
       "      <th>category</th>\n",
       "    </tr>\n",
       "  </thead>\n",
       "  <tbody>\n",
       "    <tr>\n",
       "      <th>0</th>\n",
       "      <td>I am still waiting on my card?</td>\n",
       "      <td>card_arrival</td>\n",
       "    </tr>\n",
       "    <tr>\n",
       "      <th>1</th>\n",
       "      <td>What can I do if my card still hasn't arrived ...</td>\n",
       "      <td>card_arrival</td>\n",
       "    </tr>\n",
       "    <tr>\n",
       "      <th>2</th>\n",
       "      <td>I have been waiting over a week. Is the card s...</td>\n",
       "      <td>card_arrival</td>\n",
       "    </tr>\n",
       "    <tr>\n",
       "      <th>3</th>\n",
       "      <td>Can I track my card while it is in the process...</td>\n",
       "      <td>card_arrival</td>\n",
       "    </tr>\n",
       "    <tr>\n",
       "      <th>4</th>\n",
       "      <td>How do I know if I will get my card, or if it ...</td>\n",
       "      <td>card_arrival</td>\n",
       "    </tr>\n",
       "  </tbody>\n",
       "</table>\n",
       "</div>"
      ],
      "text/plain": [
       "                                                text      category\n",
       "0                     I am still waiting on my card?  card_arrival\n",
       "1  What can I do if my card still hasn't arrived ...  card_arrival\n",
       "2  I have been waiting over a week. Is the card s...  card_arrival\n",
       "3  Can I track my card while it is in the process...  card_arrival\n",
       "4  How do I know if I will get my card, or if it ...  card_arrival"
      ]
     },
     "execution_count": 82,
     "metadata": {},
     "output_type": "execute_result"
    }
   ],
   "source": [
    "train_data[:5]"
   ]
  },
  {
   "cell_type": "markdown",
   "metadata": {},
   "source": [
    "### Tokenize again\n",
    "\n",
    "**Task**: Use sklearn's [`TfidfVectorizer`](https://scikit-learn.org/1.5/modules/generated/sklearn.feature_extraction.text.TfidfVectorizer.html#) to vectorize `train` and `test`, storing the outputs in `X_train` and `X_test`, respectively.\n",
    "\n",
    "Set `lowercase` to `False` `stop_words` to `None` and `use_idf` to `True`."
   ]
  },
  {
   "cell_type": "code",
   "execution_count": 101,
   "metadata": {
    "id": "q1F8G9RF1LHv"
   },
   "outputs": [],
   "source": [
    "# Set up the object\n",
    "vectorizer = TfidfVectorizer(lowercase=False, stop_words=None, use_idf=True)\n",
    "\n",
    "# Fit the object\n",
    "X_train = vectorizer.fit_transform(train)\n",
    "X_test = vectorizer.transform(test) # DO NOT FIT THE TEST DATA, YOU ONLY TRANSFORM IT!\n",
    "\n",
    "# # Transform the object\n",
    "# X_train = tfidf.fit_transform(train)\n",
    "# X_test = tfidf.transform(test)\n",
    "    "
   ]
  },
  {
   "cell_type": "code",
   "execution_count": 97,
   "metadata": {},
   "outputs": [
    {
     "data": {
      "text/html": [
       "<style>#sk-container-id-2 {\n",
       "  /* Definition of color scheme common for light and dark mode */\n",
       "  --sklearn-color-text: black;\n",
       "  --sklearn-color-line: gray;\n",
       "  /* Definition of color scheme for unfitted estimators */\n",
       "  --sklearn-color-unfitted-level-0: #fff5e6;\n",
       "  --sklearn-color-unfitted-level-1: #f6e4d2;\n",
       "  --sklearn-color-unfitted-level-2: #ffe0b3;\n",
       "  --sklearn-color-unfitted-level-3: chocolate;\n",
       "  /* Definition of color scheme for fitted estimators */\n",
       "  --sklearn-color-fitted-level-0: #f0f8ff;\n",
       "  --sklearn-color-fitted-level-1: #d4ebff;\n",
       "  --sklearn-color-fitted-level-2: #b3dbfd;\n",
       "  --sklearn-color-fitted-level-3: cornflowerblue;\n",
       "\n",
       "  /* Specific color for light theme */\n",
       "  --sklearn-color-text-on-default-background: var(--sg-text-color, var(--theme-code-foreground, var(--jp-content-font-color1, black)));\n",
       "  --sklearn-color-background: var(--sg-background-color, var(--theme-background, var(--jp-layout-color0, white)));\n",
       "  --sklearn-color-border-box: var(--sg-text-color, var(--theme-code-foreground, var(--jp-content-font-color1, black)));\n",
       "  --sklearn-color-icon: #696969;\n",
       "\n",
       "  @media (prefers-color-scheme: dark) {\n",
       "    /* Redefinition of color scheme for dark theme */\n",
       "    --sklearn-color-text-on-default-background: var(--sg-text-color, var(--theme-code-foreground, var(--jp-content-font-color1, white)));\n",
       "    --sklearn-color-background: var(--sg-background-color, var(--theme-background, var(--jp-layout-color0, #111)));\n",
       "    --sklearn-color-border-box: var(--sg-text-color, var(--theme-code-foreground, var(--jp-content-font-color1, white)));\n",
       "    --sklearn-color-icon: #878787;\n",
       "  }\n",
       "}\n",
       "\n",
       "#sk-container-id-2 {\n",
       "  color: var(--sklearn-color-text);\n",
       "}\n",
       "\n",
       "#sk-container-id-2 pre {\n",
       "  padding: 0;\n",
       "}\n",
       "\n",
       "#sk-container-id-2 input.sk-hidden--visually {\n",
       "  border: 0;\n",
       "  clip: rect(1px 1px 1px 1px);\n",
       "  clip: rect(1px, 1px, 1px, 1px);\n",
       "  height: 1px;\n",
       "  margin: -1px;\n",
       "  overflow: hidden;\n",
       "  padding: 0;\n",
       "  position: absolute;\n",
       "  width: 1px;\n",
       "}\n",
       "\n",
       "#sk-container-id-2 div.sk-dashed-wrapped {\n",
       "  border: 1px dashed var(--sklearn-color-line);\n",
       "  margin: 0 0.4em 0.5em 0.4em;\n",
       "  box-sizing: border-box;\n",
       "  padding-bottom: 0.4em;\n",
       "  background-color: var(--sklearn-color-background);\n",
       "}\n",
       "\n",
       "#sk-container-id-2 div.sk-container {\n",
       "  /* jupyter's `normalize.less` sets `[hidden] { display: none; }`\n",
       "     but bootstrap.min.css set `[hidden] { display: none !important; }`\n",
       "     so we also need the `!important` here to be able to override the\n",
       "     default hidden behavior on the sphinx rendered scikit-learn.org.\n",
       "     See: https://github.com/scikit-learn/scikit-learn/issues/21755 */\n",
       "  display: inline-block !important;\n",
       "  position: relative;\n",
       "}\n",
       "\n",
       "#sk-container-id-2 div.sk-text-repr-fallback {\n",
       "  display: none;\n",
       "}\n",
       "\n",
       "div.sk-parallel-item,\n",
       "div.sk-serial,\n",
       "div.sk-item {\n",
       "  /* draw centered vertical line to link estimators */\n",
       "  background-image: linear-gradient(var(--sklearn-color-text-on-default-background), var(--sklearn-color-text-on-default-background));\n",
       "  background-size: 2px 100%;\n",
       "  background-repeat: no-repeat;\n",
       "  background-position: center center;\n",
       "}\n",
       "\n",
       "/* Parallel-specific style estimator block */\n",
       "\n",
       "#sk-container-id-2 div.sk-parallel-item::after {\n",
       "  content: \"\";\n",
       "  width: 100%;\n",
       "  border-bottom: 2px solid var(--sklearn-color-text-on-default-background);\n",
       "  flex-grow: 1;\n",
       "}\n",
       "\n",
       "#sk-container-id-2 div.sk-parallel {\n",
       "  display: flex;\n",
       "  align-items: stretch;\n",
       "  justify-content: center;\n",
       "  background-color: var(--sklearn-color-background);\n",
       "  position: relative;\n",
       "}\n",
       "\n",
       "#sk-container-id-2 div.sk-parallel-item {\n",
       "  display: flex;\n",
       "  flex-direction: column;\n",
       "}\n",
       "\n",
       "#sk-container-id-2 div.sk-parallel-item:first-child::after {\n",
       "  align-self: flex-end;\n",
       "  width: 50%;\n",
       "}\n",
       "\n",
       "#sk-container-id-2 div.sk-parallel-item:last-child::after {\n",
       "  align-self: flex-start;\n",
       "  width: 50%;\n",
       "}\n",
       "\n",
       "#sk-container-id-2 div.sk-parallel-item:only-child::after {\n",
       "  width: 0;\n",
       "}\n",
       "\n",
       "/* Serial-specific style estimator block */\n",
       "\n",
       "#sk-container-id-2 div.sk-serial {\n",
       "  display: flex;\n",
       "  flex-direction: column;\n",
       "  align-items: center;\n",
       "  background-color: var(--sklearn-color-background);\n",
       "  padding-right: 1em;\n",
       "  padding-left: 1em;\n",
       "}\n",
       "\n",
       "\n",
       "/* Toggleable style: style used for estimator/Pipeline/ColumnTransformer box that is\n",
       "clickable and can be expanded/collapsed.\n",
       "- Pipeline and ColumnTransformer use this feature and define the default style\n",
       "- Estimators will overwrite some part of the style using the `sk-estimator` class\n",
       "*/\n",
       "\n",
       "/* Pipeline and ColumnTransformer style (default) */\n",
       "\n",
       "#sk-container-id-2 div.sk-toggleable {\n",
       "  /* Default theme specific background. It is overwritten whether we have a\n",
       "  specific estimator or a Pipeline/ColumnTransformer */\n",
       "  background-color: var(--sklearn-color-background);\n",
       "}\n",
       "\n",
       "/* Toggleable label */\n",
       "#sk-container-id-2 label.sk-toggleable__label {\n",
       "  cursor: pointer;\n",
       "  display: block;\n",
       "  width: 100%;\n",
       "  margin-bottom: 0;\n",
       "  padding: 0.5em;\n",
       "  box-sizing: border-box;\n",
       "  text-align: center;\n",
       "}\n",
       "\n",
       "#sk-container-id-2 label.sk-toggleable__label-arrow:before {\n",
       "  /* Arrow on the left of the label */\n",
       "  content: \"▸\";\n",
       "  float: left;\n",
       "  margin-right: 0.25em;\n",
       "  color: var(--sklearn-color-icon);\n",
       "}\n",
       "\n",
       "#sk-container-id-2 label.sk-toggleable__label-arrow:hover:before {\n",
       "  color: var(--sklearn-color-text);\n",
       "}\n",
       "\n",
       "/* Toggleable content - dropdown */\n",
       "\n",
       "#sk-container-id-2 div.sk-toggleable__content {\n",
       "  max-height: 0;\n",
       "  max-width: 0;\n",
       "  overflow: hidden;\n",
       "  text-align: left;\n",
       "  /* unfitted */\n",
       "  background-color: var(--sklearn-color-unfitted-level-0);\n",
       "}\n",
       "\n",
       "#sk-container-id-2 div.sk-toggleable__content.fitted {\n",
       "  /* fitted */\n",
       "  background-color: var(--sklearn-color-fitted-level-0);\n",
       "}\n",
       "\n",
       "#sk-container-id-2 div.sk-toggleable__content pre {\n",
       "  margin: 0.2em;\n",
       "  border-radius: 0.25em;\n",
       "  color: var(--sklearn-color-text);\n",
       "  /* unfitted */\n",
       "  background-color: var(--sklearn-color-unfitted-level-0);\n",
       "}\n",
       "\n",
       "#sk-container-id-2 div.sk-toggleable__content.fitted pre {\n",
       "  /* unfitted */\n",
       "  background-color: var(--sklearn-color-fitted-level-0);\n",
       "}\n",
       "\n",
       "#sk-container-id-2 input.sk-toggleable__control:checked~div.sk-toggleable__content {\n",
       "  /* Expand drop-down */\n",
       "  max-height: 200px;\n",
       "  max-width: 100%;\n",
       "  overflow: auto;\n",
       "}\n",
       "\n",
       "#sk-container-id-2 input.sk-toggleable__control:checked~label.sk-toggleable__label-arrow:before {\n",
       "  content: \"▾\";\n",
       "}\n",
       "\n",
       "/* Pipeline/ColumnTransformer-specific style */\n",
       "\n",
       "#sk-container-id-2 div.sk-label input.sk-toggleable__control:checked~label.sk-toggleable__label {\n",
       "  color: var(--sklearn-color-text);\n",
       "  background-color: var(--sklearn-color-unfitted-level-2);\n",
       "}\n",
       "\n",
       "#sk-container-id-2 div.sk-label.fitted input.sk-toggleable__control:checked~label.sk-toggleable__label {\n",
       "  background-color: var(--sklearn-color-fitted-level-2);\n",
       "}\n",
       "\n",
       "/* Estimator-specific style */\n",
       "\n",
       "/* Colorize estimator box */\n",
       "#sk-container-id-2 div.sk-estimator input.sk-toggleable__control:checked~label.sk-toggleable__label {\n",
       "  /* unfitted */\n",
       "  background-color: var(--sklearn-color-unfitted-level-2);\n",
       "}\n",
       "\n",
       "#sk-container-id-2 div.sk-estimator.fitted input.sk-toggleable__control:checked~label.sk-toggleable__label {\n",
       "  /* fitted */\n",
       "  background-color: var(--sklearn-color-fitted-level-2);\n",
       "}\n",
       "\n",
       "#sk-container-id-2 div.sk-label label.sk-toggleable__label,\n",
       "#sk-container-id-2 div.sk-label label {\n",
       "  /* The background is the default theme color */\n",
       "  color: var(--sklearn-color-text-on-default-background);\n",
       "}\n",
       "\n",
       "/* On hover, darken the color of the background */\n",
       "#sk-container-id-2 div.sk-label:hover label.sk-toggleable__label {\n",
       "  color: var(--sklearn-color-text);\n",
       "  background-color: var(--sklearn-color-unfitted-level-2);\n",
       "}\n",
       "\n",
       "/* Label box, darken color on hover, fitted */\n",
       "#sk-container-id-2 div.sk-label.fitted:hover label.sk-toggleable__label.fitted {\n",
       "  color: var(--sklearn-color-text);\n",
       "  background-color: var(--sklearn-color-fitted-level-2);\n",
       "}\n",
       "\n",
       "/* Estimator label */\n",
       "\n",
       "#sk-container-id-2 div.sk-label label {\n",
       "  font-family: monospace;\n",
       "  font-weight: bold;\n",
       "  display: inline-block;\n",
       "  line-height: 1.2em;\n",
       "}\n",
       "\n",
       "#sk-container-id-2 div.sk-label-container {\n",
       "  text-align: center;\n",
       "}\n",
       "\n",
       "/* Estimator-specific */\n",
       "#sk-container-id-2 div.sk-estimator {\n",
       "  font-family: monospace;\n",
       "  border: 1px dotted var(--sklearn-color-border-box);\n",
       "  border-radius: 0.25em;\n",
       "  box-sizing: border-box;\n",
       "  margin-bottom: 0.5em;\n",
       "  /* unfitted */\n",
       "  background-color: var(--sklearn-color-unfitted-level-0);\n",
       "}\n",
       "\n",
       "#sk-container-id-2 div.sk-estimator.fitted {\n",
       "  /* fitted */\n",
       "  background-color: var(--sklearn-color-fitted-level-0);\n",
       "}\n",
       "\n",
       "/* on hover */\n",
       "#sk-container-id-2 div.sk-estimator:hover {\n",
       "  /* unfitted */\n",
       "  background-color: var(--sklearn-color-unfitted-level-2);\n",
       "}\n",
       "\n",
       "#sk-container-id-2 div.sk-estimator.fitted:hover {\n",
       "  /* fitted */\n",
       "  background-color: var(--sklearn-color-fitted-level-2);\n",
       "}\n",
       "\n",
       "/* Specification for estimator info (e.g. \"i\" and \"?\") */\n",
       "\n",
       "/* Common style for \"i\" and \"?\" */\n",
       "\n",
       ".sk-estimator-doc-link,\n",
       "a:link.sk-estimator-doc-link,\n",
       "a:visited.sk-estimator-doc-link {\n",
       "  float: right;\n",
       "  font-size: smaller;\n",
       "  line-height: 1em;\n",
       "  font-family: monospace;\n",
       "  background-color: var(--sklearn-color-background);\n",
       "  border-radius: 1em;\n",
       "  height: 1em;\n",
       "  width: 1em;\n",
       "  text-decoration: none !important;\n",
       "  margin-left: 1ex;\n",
       "  /* unfitted */\n",
       "  border: var(--sklearn-color-unfitted-level-1) 1pt solid;\n",
       "  color: var(--sklearn-color-unfitted-level-1);\n",
       "}\n",
       "\n",
       ".sk-estimator-doc-link.fitted,\n",
       "a:link.sk-estimator-doc-link.fitted,\n",
       "a:visited.sk-estimator-doc-link.fitted {\n",
       "  /* fitted */\n",
       "  border: var(--sklearn-color-fitted-level-1) 1pt solid;\n",
       "  color: var(--sklearn-color-fitted-level-1);\n",
       "}\n",
       "\n",
       "/* On hover */\n",
       "div.sk-estimator:hover .sk-estimator-doc-link:hover,\n",
       ".sk-estimator-doc-link:hover,\n",
       "div.sk-label-container:hover .sk-estimator-doc-link:hover,\n",
       ".sk-estimator-doc-link:hover {\n",
       "  /* unfitted */\n",
       "  background-color: var(--sklearn-color-unfitted-level-3);\n",
       "  color: var(--sklearn-color-background);\n",
       "  text-decoration: none;\n",
       "}\n",
       "\n",
       "div.sk-estimator.fitted:hover .sk-estimator-doc-link.fitted:hover,\n",
       ".sk-estimator-doc-link.fitted:hover,\n",
       "div.sk-label-container:hover .sk-estimator-doc-link.fitted:hover,\n",
       ".sk-estimator-doc-link.fitted:hover {\n",
       "  /* fitted */\n",
       "  background-color: var(--sklearn-color-fitted-level-3);\n",
       "  color: var(--sklearn-color-background);\n",
       "  text-decoration: none;\n",
       "}\n",
       "\n",
       "/* Span, style for the box shown on hovering the info icon */\n",
       ".sk-estimator-doc-link span {\n",
       "  display: none;\n",
       "  z-index: 9999;\n",
       "  position: relative;\n",
       "  font-weight: normal;\n",
       "  right: .2ex;\n",
       "  padding: .5ex;\n",
       "  margin: .5ex;\n",
       "  width: min-content;\n",
       "  min-width: 20ex;\n",
       "  max-width: 50ex;\n",
       "  color: var(--sklearn-color-text);\n",
       "  box-shadow: 2pt 2pt 4pt #999;\n",
       "  /* unfitted */\n",
       "  background: var(--sklearn-color-unfitted-level-0);\n",
       "  border: .5pt solid var(--sklearn-color-unfitted-level-3);\n",
       "}\n",
       "\n",
       ".sk-estimator-doc-link.fitted span {\n",
       "  /* fitted */\n",
       "  background: var(--sklearn-color-fitted-level-0);\n",
       "  border: var(--sklearn-color-fitted-level-3);\n",
       "}\n",
       "\n",
       ".sk-estimator-doc-link:hover span {\n",
       "  display: block;\n",
       "}\n",
       "\n",
       "/* \"?\"-specific style due to the `<a>` HTML tag */\n",
       "\n",
       "#sk-container-id-2 a.estimator_doc_link {\n",
       "  float: right;\n",
       "  font-size: 1rem;\n",
       "  line-height: 1em;\n",
       "  font-family: monospace;\n",
       "  background-color: var(--sklearn-color-background);\n",
       "  border-radius: 1rem;\n",
       "  height: 1rem;\n",
       "  width: 1rem;\n",
       "  text-decoration: none;\n",
       "  /* unfitted */\n",
       "  color: var(--sklearn-color-unfitted-level-1);\n",
       "  border: var(--sklearn-color-unfitted-level-1) 1pt solid;\n",
       "}\n",
       "\n",
       "#sk-container-id-2 a.estimator_doc_link.fitted {\n",
       "  /* fitted */\n",
       "  border: var(--sklearn-color-fitted-level-1) 1pt solid;\n",
       "  color: var(--sklearn-color-fitted-level-1);\n",
       "}\n",
       "\n",
       "/* On hover */\n",
       "#sk-container-id-2 a.estimator_doc_link:hover {\n",
       "  /* unfitted */\n",
       "  background-color: var(--sklearn-color-unfitted-level-3);\n",
       "  color: var(--sklearn-color-background);\n",
       "  text-decoration: none;\n",
       "}\n",
       "\n",
       "#sk-container-id-2 a.estimator_doc_link.fitted:hover {\n",
       "  /* fitted */\n",
       "  background-color: var(--sklearn-color-fitted-level-3);\n",
       "}\n",
       "</style><div id=\"sk-container-id-2\" class=\"sk-top-container\"><div class=\"sk-text-repr-fallback\"><pre>TfidfVectorizer(lowercase=False)</pre><b>In a Jupyter environment, please rerun this cell to show the HTML representation or trust the notebook. <br />On GitHub, the HTML representation is unable to render, please try loading this page with nbviewer.org.</b></div><div class=\"sk-container\" hidden><div class=\"sk-item\"><div class=\"sk-estimator fitted sk-toggleable\"><input class=\"sk-toggleable__control sk-hidden--visually\" id=\"sk-estimator-id-2\" type=\"checkbox\" checked><label for=\"sk-estimator-id-2\" class=\"sk-toggleable__label fitted sk-toggleable__label-arrow fitted\">&nbsp;&nbsp;TfidfVectorizer<a class=\"sk-estimator-doc-link fitted\" rel=\"noreferrer\" target=\"_blank\" href=\"https://scikit-learn.org/1.5/modules/generated/sklearn.feature_extraction.text.TfidfVectorizer.html\">?<span>Documentation for TfidfVectorizer</span></a><span class=\"sk-estimator-doc-link fitted\">i<span>Fitted</span></span></label><div class=\"sk-toggleable__content fitted\"><pre>TfidfVectorizer(lowercase=False)</pre></div> </div></div></div></div>"
      ],
      "text/plain": [
       "TfidfVectorizer(lowercase=False)"
      ]
     },
     "execution_count": 97,
     "metadata": {},
     "output_type": "execute_result"
    }
   ],
   "source": [
    "vectorizer"
   ]
  },
  {
   "cell_type": "markdown",
   "metadata": {},
   "source": [
    "**Tutorial question 3**: How many features are there in `X_train` (i.e. what is $|V|$)?"
   ]
  },
  {
   "cell_type": "code",
   "execution_count": 84,
   "metadata": {
    "colab": {
     "base_uri": "https://localhost:8080/"
    },
    "id": "mUHXRzy_2lYg",
    "outputId": "72877f8d-9945-4a55-d40b-a711b09a7dcd"
   },
   "outputs": [
    {
     "data": {
      "text/plain": [
       "(10003, 2566)"
      ]
     },
     "execution_count": 84,
     "metadata": {},
     "output_type": "execute_result"
    }
   ],
   "source": [
    "X_train.shape\n",
    "# X_train.shape[1]\n",
    "# **Tutorial question 4**: What is the 23rd token in $V$?\n",
    "\n",
    "# # Get the feature names\n",
    "# feature_names = tfidf.get_feature_names_out()\n",
    "\n",
    "# # Get the 23rd token\n",
    "# feature_names[22]\n"
   ]
  },
  {
   "cell_type": "code",
   "execution_count": 95,
   "metadata": {},
   "outputs": [
    {
     "data": {
      "text/plain": [
       "array([[0., 0., 0., ..., 0., 0., 0.]])"
      ]
     },
     "execution_count": 95,
     "metadata": {},
     "output_type": "execute_result"
    }
   ],
   "source": [
    "# find 23rd token in X_train\n",
    "X_train[0].toarray()\n",
    "\n",
    "# **Tutorial question 4**: What is the 23rd token in $V$?"
   ]
  },
  {
   "cell_type": "markdown",
   "metadata": {},
   "source": [
    "**Tutorial question 4**: What is the 23rd token in $V$?"
   ]
  },
  {
   "cell_type": "code",
   "execution_count": 86,
   "metadata": {},
   "outputs": [],
   "source": [
    "# vocabulary = vectorizer.vocabulary_"
   ]
  },
  {
   "cell_type": "code",
   "execution_count": 105,
   "metadata": {},
   "outputs": [],
   "source": [
    "feature_names = vectorizer.get_feature_names_out()"
   ]
  },
  {
   "cell_type": "code",
   "execution_count": 102,
   "metadata": {},
   "outputs": [],
   "source": [
    "feature_names = vectorizer.get_feature_names_out()"
   ]
  },
  {
   "cell_type": "code",
   "execution_count": null,
   "metadata": {},
   "outputs": [],
   "source": [
    "#BANK NNP is the answer"
   ]
  },
  {
   "cell_type": "markdown",
   "metadata": {},
   "source": [
    "**Tutorial question 5**: What is the POS associated with that token?\n",
    "\n",
    "## Text classification\n",
    "\n",
    "Here, we focus on feature enrichment and not the learner. Thus, we'll stick with one learner (Multinomial Naive Bayes) and default hyperparameters.\n",
    "\n",
    "### Train"
   ]
  },
  {
   "cell_type": "code",
   "execution_count": 98,
   "metadata": {
    "id": "s11AfDLE2vMq"
   },
   "outputs": [],
   "source": [
    "clf = MultinomialNB().fit(X_train, train_data['category'])"
   ]
  },
  {
   "cell_type": "markdown",
   "metadata": {},
   "source": [
    "### Evaluate"
   ]
  },
  {
   "cell_type": "code",
   "execution_count": 88,
   "metadata": {
    "id": "JLJvzhKD28Kt"
   },
   "outputs": [
    {
     "name": "stdout",
     "output_type": "stream",
     "text": [
      "Test set accuracy: 0.7464285714285714\n"
     ]
    }
   ],
   "source": [
    "preds = clf.predict(X_test)\n",
    "\n",
    "print('Test set accuracy:', (preds == test_data['category']).mean())\n",
    "\n",
    "# accuracy is 0.74642"
   ]
  },
  {
   "cell_type": "markdown",
   "metadata": {
    "colab": {
     "base_uri": "https://localhost:8080/"
    },
    "id": "Kroz104T5RhF",
    "outputId": "2b051da4-a1a7-422f-dac8-5c54b931571a"
   },
   "source": [
    "**Tutorial question 6**: What is the test set accuracy?\n",
    "\n",
    "**Task**: Combine the above steps (`enrich_feathers`, `TfidfVectorizer`, training and evaluation) into a pipline called `pipeline`.\n",
    "`pipeline()` should take `train_docs`, `test_docs`, and `features` as arguments and return the accuracy. Make sure that it can handle empty docs."
   ]
  },
  {
   "cell_type": "code",
   "execution_count": 100,
   "metadata": {},
   "outputs": [],
   "source": [
    "def pipeline(train_docs, test_docs, features):\n",
    "    \n",
    "    train = enrich_features(train_docs, features)\n",
    "    test = enrich_features(test_docs, features)\n",
    "\n",
    "    vectorizer = TfidfVectorizer(lowercase=False, stop_words=None, use_idf=True)\n",
    "\n",
    "    try:\n",
    "        X_train = vectorizer.fit_transform(train)\n",
    "        X_test = vectorizer.transform(test)\n",
    "\n",
    "        clf = MultinomialNB().fit(X_train, train_data['category'])\n",
    "    \n",
    "        preds = clf.predict(X_test)\n",
    "    \n",
    "        acc = (preds == test_data['category']).mean()    \n",
    "        \n",
    "    except:\n",
    "\n",
    "        acc = 0\n",
    "\n",
    "    return acc"
   ]
  },
  {
   "cell_type": "markdown",
   "metadata": {},
   "source": [
    "**Task**: Find the best feature combination by training and evaluating models on all possible combinations. Store the feature configurations and accuracies in a list called `configs`. Don't forget to use `features.copy()` when storing the feature configurations in `configs`."
   ]
  },
  {
   "cell_type": "code",
   "execution_count": 108,
   "metadata": {
    "id": "jZJVKauc40eL"
   },
   "outputs": [
    {
     "name": "stdout",
     "output_type": "stream",
     "text": [
      "1/32 configs completed\n",
      "2/32 configs completed\n",
      "3/32 configs completed\n",
      "4/32 configs completed\n",
      "5/32 configs completed\n",
      "6/32 configs completed\n",
      "7/32 configs completed\n",
      "8/32 configs completed\n",
      "9/32 configs completed\n",
      "10/32 configs completed\n",
      "11/32 configs completed\n",
      "12/32 configs completed\n",
      "13/32 configs completed\n",
      "14/32 configs completed\n",
      "15/32 configs completed\n",
      "16/32 configs completed\n",
      "17/32 configs completed\n",
      "18/32 configs completed\n",
      "19/32 configs completed\n",
      "20/32 configs completed\n",
      "21/32 configs completed\n",
      "22/32 configs completed\n",
      "23/32 configs completed\n",
      "24/32 configs completed\n",
      "25/32 configs completed\n",
      "26/32 configs completed\n",
      "27/32 configs completed\n",
      "28/32 configs completed\n",
      "29/32 configs completed\n",
      "30/32 configs completed\n",
      "31/32 configs completed\n",
      "32/32 configs completed\n",
      "33/32 configs completed\n",
      "34/32 configs completed\n",
      "35/32 configs completed\n",
      "36/32 configs completed\n",
      "37/32 configs completed\n",
      "38/32 configs completed\n",
      "39/32 configs completed\n",
      "40/32 configs completed\n",
      "41/32 configs completed\n",
      "42/32 configs completed\n",
      "43/32 configs completed\n",
      "44/32 configs completed\n",
      "45/32 configs completed\n",
      "46/32 configs completed\n",
      "47/32 configs completed\n",
      "48/32 configs completed\n",
      "49/32 configs completed\n",
      "50/32 configs completed\n",
      "51/32 configs completed\n",
      "52/32 configs completed\n",
      "53/32 configs completed\n",
      "54/32 configs completed\n",
      "55/32 configs completed\n",
      "56/32 configs completed\n",
      "57/32 configs completed\n",
      "58/32 configs completed\n",
      "59/32 configs completed\n",
      "60/32 configs completed\n",
      "61/32 configs completed\n",
      "62/32 configs completed\n",
      "63/32 configs completed\n",
      "64/32 configs completed\n",
      "65/32 configs completed\n",
      "66/32 configs completed\n",
      "67/32 configs completed\n",
      "68/32 configs completed\n",
      "69/32 configs completed\n",
      "70/32 configs completed\n",
      "71/32 configs completed\n",
      "72/32 configs completed\n",
      "73/32 configs completed\n",
      "74/32 configs completed\n",
      "75/32 configs completed\n",
      "76/32 configs completed\n",
      "77/32 configs completed\n",
      "78/32 configs completed\n",
      "79/32 configs completed\n",
      "80/32 configs completed\n",
      "81/32 configs completed\n",
      "82/32 configs completed\n",
      "83/32 configs completed\n",
      "84/32 configs completed\n",
      "85/32 configs completed\n",
      "86/32 configs completed\n",
      "87/32 configs completed\n",
      "88/32 configs completed\n",
      "89/32 configs completed\n",
      "90/32 configs completed\n",
      "91/32 configs completed\n",
      "92/32 configs completed\n",
      "93/32 configs completed\n",
      "94/32 configs completed\n",
      "95/32 configs completed\n",
      "96/32 configs completed\n",
      "97/32 configs completed\n",
      "98/32 configs completed\n",
      "99/32 configs completed\n",
      "100/32 configs completed\n",
      "101/32 configs completed\n",
      "102/32 configs completed\n",
      "103/32 configs completed\n",
      "104/32 configs completed\n",
      "105/32 configs completed\n",
      "106/32 configs completed\n",
      "107/32 configs completed\n",
      "108/32 configs completed\n",
      "109/32 configs completed\n",
      "110/32 configs completed\n",
      "111/32 configs completed\n",
      "112/32 configs completed\n",
      "113/32 configs completed\n",
      "114/32 configs completed\n",
      "115/32 configs completed\n",
      "116/32 configs completed\n",
      "117/32 configs completed\n",
      "118/32 configs completed\n",
      "119/32 configs completed\n",
      "120/32 configs completed\n",
      "121/32 configs completed\n",
      "122/32 configs completed\n",
      "123/32 configs completed\n",
      "124/32 configs completed\n",
      "125/32 configs completed\n",
      "126/32 configs completed\n",
      "127/32 configs completed\n",
      "128/32 configs completed\n",
      "129/32 configs completed\n",
      "130/32 configs completed\n",
      "131/32 configs completed\n",
      "132/32 configs completed\n",
      "133/32 configs completed\n",
      "134/32 configs completed\n",
      "135/32 configs completed\n",
      "136/32 configs completed\n",
      "137/32 configs completed\n",
      "138/32 configs completed\n",
      "139/32 configs completed\n",
      "140/32 configs completed\n",
      "141/32 configs completed\n",
      "142/32 configs completed\n",
      "143/32 configs completed\n",
      "144/32 configs completed\n",
      "145/32 configs completed\n",
      "146/32 configs completed\n",
      "147/32 configs completed\n",
      "148/32 configs completed\n",
      "149/32 configs completed\n",
      "150/32 configs completed\n",
      "151/32 configs completed\n",
      "152/32 configs completed\n",
      "153/32 configs completed\n",
      "154/32 configs completed\n",
      "155/32 configs completed\n",
      "156/32 configs completed\n",
      "157/32 configs completed\n",
      "158/32 configs completed\n",
      "159/32 configs completed\n",
      "160/32 configs completed\n",
      "161/32 configs completed\n",
      "162/32 configs completed\n",
      "163/32 configs completed\n",
      "164/32 configs completed\n",
      "165/32 configs completed\n",
      "166/32 configs completed\n",
      "167/32 configs completed\n",
      "168/32 configs completed\n",
      "169/32 configs completed\n",
      "170/32 configs completed\n",
      "171/32 configs completed\n",
      "172/32 configs completed\n",
      "173/32 configs completed\n",
      "174/32 configs completed\n",
      "175/32 configs completed\n",
      "176/32 configs completed\n",
      "177/32 configs completed\n",
      "178/32 configs completed\n",
      "179/32 configs completed\n",
      "180/32 configs completed\n",
      "181/32 configs completed\n",
      "182/32 configs completed\n",
      "183/32 configs completed\n",
      "184/32 configs completed\n",
      "185/32 configs completed\n",
      "186/32 configs completed\n",
      "187/32 configs completed\n",
      "188/32 configs completed\n",
      "189/32 configs completed\n",
      "190/32 configs completed\n",
      "191/32 configs completed\n",
      "192/32 configs completed\n",
      "193/32 configs completed\n",
      "194/32 configs completed\n",
      "195/32 configs completed\n",
      "196/32 configs completed\n",
      "197/32 configs completed\n",
      "198/32 configs completed\n",
      "199/32 configs completed\n",
      "200/32 configs completed\n",
      "201/32 configs completed\n",
      "202/32 configs completed\n",
      "203/32 configs completed\n",
      "204/32 configs completed\n",
      "205/32 configs completed\n",
      "206/32 configs completed\n",
      "207/32 configs completed\n",
      "208/32 configs completed\n",
      "209/32 configs completed\n",
      "210/32 configs completed\n",
      "211/32 configs completed\n",
      "212/32 configs completed\n",
      "213/32 configs completed\n",
      "214/32 configs completed\n",
      "215/32 configs completed\n",
      "216/32 configs completed\n",
      "217/32 configs completed\n",
      "218/32 configs completed\n",
      "219/32 configs completed\n",
      "220/32 configs completed\n",
      "221/32 configs completed\n",
      "222/32 configs completed\n",
      "223/32 configs completed\n",
      "224/32 configs completed\n",
      "225/32 configs completed\n",
      "226/32 configs completed\n",
      "227/32 configs completed\n",
      "228/32 configs completed\n",
      "229/32 configs completed\n",
      "230/32 configs completed\n",
      "231/32 configs completed\n",
      "232/32 configs completed\n",
      "233/32 configs completed\n",
      "234/32 configs completed\n",
      "235/32 configs completed\n",
      "236/32 configs completed\n",
      "237/32 configs completed\n",
      "238/32 configs completed\n",
      "239/32 configs completed\n",
      "240/32 configs completed\n",
      "241/32 configs completed\n",
      "242/32 configs completed\n",
      "243/32 configs completed\n",
      "244/32 configs completed\n",
      "245/32 configs completed\n",
      "246/32 configs completed\n",
      "247/32 configs completed\n",
      "248/32 configs completed\n",
      "249/32 configs completed\n",
      "250/32 configs completed\n",
      "251/32 configs completed\n",
      "252/32 configs completed\n",
      "253/32 configs completed\n",
      "254/32 configs completed\n",
      "255/32 configs completed\n",
      "256/32 configs completed\n"
     ]
    }
   ],
   "source": [
    "features = {}\n",
    "configs = []\n",
    "opts = (True, False)\n",
    "\n",
    "# Do this 256 times\n",
    "# 256 was calculated by 2^8, where 8 is the number of features.\n",
    "# We know there are 8 features because we have 8 features in the dictionary.\n",
    "# The dictionary is reference in variable in this file: features = {}, defined earlier in this file.\n",
    "for keep_noalpha in opts:\n",
    "    features[\"keep_noalpha\"] = keep_noalpha\n",
    "    for rm_stop in opts:\n",
    "        features[\"rm_stop\"] = rm_stop\n",
    "        for text in opts:\n",
    "            features[\"text\"] = text\n",
    "            for lemma in opts:\n",
    "                features[\"lemma\"] = lemma\n",
    "                for pos in opts:\n",
    "                    features[\"pos\"] = pos\n",
    "                    for tag in opts:\n",
    "                        features[\"tag\"] = tag\n",
    "                        for dep in opts:\n",
    "                            features[\"dep\"] = dep\n",
    "                            for shape in opts:\n",
    "                                features[\"shape\"] = shape\n",
    "                                # Append the features to the configs list, use copy\n",
    "                                acc = pipeline(train_docs, test_docs, features)\n",
    "                                configs.append({'acc': acc, 'features': features.copy()}) # avoid shallow copy\n",
    "                                print(f'{len(configs)}/{2**5} configs completed')\n"
   ]
  },
  {
   "cell_type": "markdown",
   "metadata": {},
   "source": [
    "**Tutorial question 7**: What is the best accuracy?"
   ]
  },
  {
   "cell_type": "code",
   "execution_count": 117,
   "metadata": {
    "colab": {
     "base_uri": "https://localhost:8080/"
    },
    "id": "No7rM59q6hkK",
    "outputId": "6aa6ea53-b18e-4d5e-c84c-fcf7bc8e8aab"
   },
   "outputs": [
    {
     "name": "stdout",
     "output_type": "stream",
     "text": [
      "0.7022727272727273\n",
      "0.7022727272727273\n",
      "0.7477272727272727\n",
      "0.7477272727272727\n",
      "0.7012987012987013\n",
      "0.7012987012987013\n",
      "0.7454545454545455\n",
      "0.7454545454545455\n",
      "0.7051948051948052\n",
      "0.7048701298701299\n",
      "0.7538961038961038\n",
      "0.7535714285714286\n",
      "0.7035714285714286\n",
      "0.7035714285714286\n",
      "0.7487012987012988\n",
      "0.7483766233766234\n",
      "0.7022727272727273\n",
      "0.701948051948052\n",
      "0.7477272727272727\n",
      "0.7477272727272727\n",
      "0.700974025974026\n",
      "0.700974025974026\n",
      "0.7454545454545455\n",
      "0.7454545454545455\n",
      "0.7048701298701299\n",
      "0.7048701298701299\n",
      "0.7532467532467533\n",
      "0.7532467532467533\n",
      "0.7042207792207792\n",
      "0.7042207792207792\n",
      "0.749025974025974\n",
      "0.7464285714285714\n",
      "0.7032467532467532\n",
      "0.701948051948052\n",
      "0.7487012987012988\n",
      "0.7493506493506493\n",
      "0.6974025974025974\n",
      "0.6987012987012987\n",
      "0.7366883116883117\n",
      "0.7373376623376623\n",
      "0.7058441558441558\n",
      "0.7077922077922078\n",
      "0.7545454545454545\n",
      "0.7555194805194805\n",
      "0.7006493506493506\n",
      "0.7012987012987013\n",
      "0.7353896103896104\n",
      "0.7366883116883117\n",
      "0.25551948051948054\n",
      "0.20454545454545456\n",
      "0.19512987012987013\n",
      "0.1279220779220779\n",
      "0.18798701298701298\n",
      "0.15292207792207793\n",
      "0.11818181818181818\n",
      "0.060064935064935064\n",
      "0.25876623376623376\n",
      "0.20909090909090908\n",
      "0.19545454545454546\n",
      "0.12402597402597403\n",
      "0.18961038961038962\n",
      "0.12305194805194805\n",
      "0.0659090909090909\n",
      "0\n",
      "0.7025974025974026\n",
      "0.7045454545454546\n",
      "0.7665584415584416\n",
      "0.7688311688311689\n",
      "0.7136363636363636\n",
      "0.7142857142857143\n",
      "0.7743506493506493\n",
      "0.7740259740259741\n",
      "0.7064935064935065\n",
      "0.7077922077922078\n",
      "0.7646103896103896\n",
      "0.7711038961038961\n",
      "0.7191558441558441\n",
      "0.7191558441558441\n",
      "0.7753246753246753\n",
      "0.7753246753246753\n",
      "0.7025974025974026\n",
      "0.7051948051948052\n",
      "0.7665584415584416\n",
      "0.7698051948051948\n",
      "0.7142857142857143\n",
      "0.7152597402597403\n",
      "0.7740259740259741\n",
      "0.7743506493506493\n",
      "0.7064935064935065\n",
      "0.7081168831168831\n",
      "0.7636363636363637\n",
      "0.7694805194805194\n",
      "0.7211038961038961\n",
      "0.7214285714285714\n",
      "0.7762987012987013\n",
      "0.7782467532467533\n",
      "0.7045454545454546\n",
      "0.7152597402597403\n",
      "0.7688311688311689\n",
      "0.7788961038961039\n",
      "0.7198051948051948\n",
      "0.7165584415584415\n",
      "0.7688311688311689\n",
      "0.7714285714285715\n",
      "0.7074675324675325\n",
      "0.7159090909090909\n",
      "0.7688311688311689\n",
      "0.7785714285714286\n",
      "0.7233766233766233\n",
      "0.7230519480519481\n",
      "0.7730519480519481\n",
      "0.7834415584415585\n",
      "0.33896103896103896\n",
      "0.2698051948051948\n",
      "0.3392857142857143\n",
      "0.2340909090909091\n",
      "0.2922077922077922\n",
      "0.20487012987012987\n",
      "0.25162337662337664\n",
      "0.08441558441558442\n",
      "0.3396103896103896\n",
      "0.26201298701298703\n",
      "0.33376623376623377\n",
      "0.20292207792207792\n",
      "0.30064935064935067\n",
      "0.17305194805194804\n",
      "0.0762987012987013\n",
      "0\n",
      "0.7042207792207792\n",
      "0.7042207792207792\n",
      "0.7448051948051948\n",
      "0.7448051948051948\n",
      "0.7022727272727273\n",
      "0.7022727272727273\n",
      "0.7454545454545455\n",
      "0.7454545454545455\n",
      "0.7042207792207792\n",
      "0.7042207792207792\n",
      "0.7448051948051948\n",
      "0.7448051948051948\n",
      "0.7025974025974026\n",
      "0.7025974025974026\n",
      "0.7467532467532467\n",
      "0.7467532467532467\n",
      "0.7042207792207792\n",
      "0.7042207792207792\n",
      "0.7448051948051948\n",
      "0.7448051948051948\n",
      "0.7022727272727273\n",
      "0.7022727272727273\n",
      "0.7454545454545455\n",
      "0.7454545454545455\n",
      "0.7042207792207792\n",
      "0.7042207792207792\n",
      "0.7448051948051948\n",
      "0.7448051948051948\n",
      "0.7022727272727273\n",
      "0.7022727272727273\n",
      "0.7474025974025974\n",
      "0.7461038961038962\n",
      "0.7045454545454546\n",
      "0.7048701298701299\n",
      "0.7448051948051948\n",
      "0.7464285714285714\n",
      "0.6987012987012987\n",
      "0.6967532467532468\n",
      "0.740909090909091\n",
      "0.7402597402597403\n",
      "0.7045454545454546\n",
      "0.7048701298701299\n",
      "0.7448051948051948\n",
      "0.7464285714285714\n",
      "0.7016233766233766\n",
      "0.6993506493506494\n",
      "0.7347402597402597\n",
      "0.736038961038961\n",
      "0.23733766233766235\n",
      "0.19285714285714287\n",
      "0.17662337662337663\n",
      "0.10746753246753246\n",
      "0.18668831168831168\n",
      "0.14545454545454545\n",
      "0.10974025974025974\n",
      "0.05357142857142857\n",
      "0.2366883116883117\n",
      "0.19318181818181818\n",
      "0.17694805194805194\n",
      "0.1038961038961039\n",
      "0.18246753246753247\n",
      "0.11525974025974026\n",
      "0.06168831168831169\n",
      "0\n",
      "0.7064935064935065\n",
      "0.7090909090909091\n",
      "0.7685064935064935\n",
      "0.7730519480519481\n",
      "0.7136363636363636\n",
      "0.7136363636363636\n",
      "0.775974025974026\n",
      "0.775974025974026\n",
      "0.7074675324675325\n",
      "0.7100649350649351\n",
      "0.7678571428571429\n",
      "0.7711038961038961\n",
      "0.7181818181818181\n",
      "0.7181818181818181\n",
      "0.775974025974026\n",
      "0.775974025974026\n",
      "0.7064935064935065\n",
      "0.7090909090909091\n",
      "0.7685064935064935\n",
      "0.7730519480519481\n",
      "0.7139610389610389\n",
      "0.7139610389610389\n",
      "0.775974025974026\n",
      "0.775974025974026\n",
      "0.7074675324675325\n",
      "0.7100649350649351\n",
      "0.7665584415584416\n",
      "0.7698051948051948\n",
      "0.7191558441558441\n",
      "0.7191558441558441\n",
      "0.7766233766233767\n",
      "0.7779220779220779\n",
      "0.7077922077922078\n",
      "0.7185064935064935\n",
      "0.7704545454545455\n",
      "0.7798701298701298\n",
      "0.7214285714285714\n",
      "0.7204545454545455\n",
      "0.7727272727272727\n",
      "0.7704545454545455\n",
      "0.7090909090909091\n",
      "0.7178571428571429\n",
      "0.7694805194805194\n",
      "0.7811688311688312\n",
      "0.7253246753246754\n",
      "0.724025974025974\n",
      "0.7753246753246753\n",
      "0.7808441558441559\n",
      "0.3444805194805195\n",
      "0.25551948051948054\n",
      "0.3301948051948052\n",
      "0.20324675324675326\n",
      "0.2922077922077922\n",
      "0.19448051948051948\n",
      "0.2461038961038961\n",
      "0.07922077922077922\n",
      "0.3405844155844156\n",
      "0.24772727272727274\n",
      "0.32012987012987015\n",
      "0.17792207792207793\n",
      "0.29707792207792205\n",
      "0.15876623376623378\n",
      "0.07597402597402597\n",
      "0\n"
     ]
    }
   ],
   "source": [
    "my_list = []\n",
    "# Loop\n",
    "for item in configs:\n",
    "    print(item[\"acc\"])\n",
    "    my_list.append(item[\"acc\"])"
   ]
  },
  {
   "cell_type": "code",
   "execution_count": 118,
   "metadata": {},
   "outputs": [
    {
     "data": {
      "text/plain": [
       "np.float64(0.7834415584415585)"
      ]
     },
     "execution_count": 118,
     "metadata": {},
     "output_type": "execute_result"
    }
   ],
   "source": [
    "max(my_list)"
   ]
  },
  {
   "cell_type": "code",
   "execution_count": 119,
   "metadata": {
    "colab": {
     "base_uri": "https://localhost:8080/"
    },
    "id": "IMGQdm1j48xQ",
    "outputId": "ecc7a015-adb3-44f7-f7b5-f1a97c982abf"
   },
   "outputs": [
    {
     "name": "stdout",
     "output_type": "stream",
     "text": [
      "Best accuracy: 0.7834415584415585\n",
      "Best features: {'keep_noalpha': True, 'rm_stop': False, 'text': False, 'lemma': True, 'pos': False, 'tag': False, 'dep': False, 'shape': False}\n"
     ]
    }
   ],
   "source": [
    "max_acc = 0\n",
    "for cfg in configs:\n",
    "    if cfg[\"acc\"] > max_acc:\n",
    "        max_acc = cfg[\"acc\"]\n",
    "        best_cfg = cfg\n",
    "\n",
    "print(f'Best accuracy: {max_acc}')\n",
    "print(f'Best features: {best_cfg[\"features\"]}')"
   ]
  },
  {
   "cell_type": "code",
   "execution_count": null,
   "metadata": {},
   "outputs": [],
   "source": [
    "# Use lemma, don't use pos tag, don't use tags, don't use dep, don't use shape\n",
    "# don't use text, don't use stop words, keep non-alpha"
   ]
  },
  {
   "cell_type": "code",
   "execution_count": null,
   "metadata": {
    "id": "Nu2f2zdn5x3-"
   },
   "outputs": [],
   "source": [
    "# Why no transfer mapping?\n",
    "# We are not using the feature names, we are using the indices.\n",
    "# If we ran this over and over, you have to consider how fast this will fun.\n"
   ]
  }
 ],
 "metadata": {
  "colab": {
   "name": "Welcome To Colab",
   "provenance": []
  },
  "kernelspec": {
   "display_name": ".venv",
   "language": "python",
   "name": "python3"
  },
  "language_info": {
   "codemirror_mode": {
    "name": "ipython",
    "version": 3
   },
   "file_extension": ".py",
   "mimetype": "text/x-python",
   "name": "python",
   "nbconvert_exporter": "python",
   "pygments_lexer": "ipython3",
   "version": "3.12.6"
  }
 },
 "nbformat": 4,
 "nbformat_minor": 4
}
