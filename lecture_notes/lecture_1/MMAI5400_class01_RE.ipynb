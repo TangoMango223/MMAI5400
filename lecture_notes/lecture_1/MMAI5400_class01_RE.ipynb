{
  "cells": [
    {
      "cell_type": "markdown",
      "metadata": {
        "id": "1vAGSAAjWMlJ"
      },
      "source": [
        "# Regular Expression\n",
        "\n",
        "A RegEx, or Regular Expression, is a sequence of characters that forms a search pattern.\n",
        "\n",
        "RegEx can be used to check if a string contains the specified search pattern.\n",
        "\n",
        "## RegEx Module\n",
        "\n",
        "Python has a built-in package called re, which can be used to work with Regular Expressions.\n",
        "\n",
        "## Example\n",
        "\n",
        "Search the string to see if it starts with \"The\" and ends with \"Spain\":"
      ]
    },
    {
      "cell_type": "code",
      "execution_count": 4,
      "metadata": {
        "id": "zw8QASsuWMlL",
        "outputId": "dc75efa5-eb03-4fb3-e3f2-37141c1a1b7b"
      },
      "outputs": [
        {
          "name": "stdout",
          "output_type": "stream",
          "text": [
            "<re.Match object; span=(0, 17), match='The rain in Spain'>\n"
          ]
        }
      ],
      "source": [
        "import re\n",
        "\n",
        "txt = \"The rain in Spain\"\n",
        "\n",
        "# .*  allow for anything in between - . is any character, * is any NUMBER of them.\n",
        "# ^ starts with in STRING\n",
        "# $ ends with in STRING\n",
        "x = re.search(r\"The.*Spain$\", txt)\n",
        "\n",
        "print(x)\n",
        "# print(x.string)"
      ]
    },
    {
      "cell_type": "code",
      "execution_count": 5,
      "metadata": {},
      "outputs": [
        {
          "data": {
            "text/plain": [
              "'The rain in Spain'"
            ]
          },
          "execution_count": 5,
          "metadata": {},
          "output_type": "execute_result"
        }
      ],
      "source": [
        "# Check contents of it:\n",
        "x.string"
      ]
    },
    {
      "cell_type": "markdown",
      "metadata": {
        "id": "LUsB6rJXWMlL"
      },
      "source": [
        "**Tutorial question 1**: What does ^ mean in the expression above?\n",
        "\n",
        "**Tutorial question 2**: What does .* mean in the expression above?\n",
        "\n",
        "**Tutorial question 3**: What does $ mean in the expression above?\n",
        "\n",
        "## RegEx Functions\n",
        "\n",
        "The re module offers a set of functions that allows us to search a string for a match:\n",
        "\n",
        "| **Function**| **Description** |\n",
        "| ----------- | ----------- |\n",
        "| `findall`   | Returns a list containing all matches |\n",
        "| `search`    | Returns a Match object if there is a match anywhere in the string |\n",
        "|`split` \t  | Returns a list where the string has been split at each match |\n",
        "|`sub`   \t  |Replaces one or many matches with a string |\n",
        "\n",
        "## Metacharacters\n",
        "\n",
        "Metacharacters are characters with a special meaning:\n",
        "\n",
        "| **Character** | **Description** |\t**Example** |\n",
        "| ------------- | --------------- | ------------|\n",
        "| `[]` | A set of characters | `\"[a-m]\"` |\n",
        "| `\\` \t| Signals a special sequence (can also be used to escape special characters) | `\"\\d\"` |\n",
        "| `.` \t| Any character (except newline character) | `\"he..o\"` |\n",
        "| `^` \t| Starts with | `\"^hello\"` |\n",
        "| `$`\t| Ends with | `\"planet$\"` |\n",
        "| `*` \t| Zero or more occurrences | `\"he.*o\"` |\n",
        "| `+` \t| One or more occurrences | `\"he.+o\"` |\n",
        "| `?` \t| Zero or one occurrences | `\"he.?o\"` |\n",
        "| `{}` | Exactly the specified number of occurrences | `\"he.{2}o\"` |\n",
        "| &#124; | Either or | `\"falls&#124;stays\"` |\n",
        "| `()` | Capture and group |  |\n",
        "\n",
        "\n",
        "## Special Sequences\n",
        "\n",
        "A special sequence is a `\\` followed by one of the characters in the list below, and has a special meaning:\n",
        "\n",
        "| **Character** | **Description** |\t**Example** |\n",
        "|---------------|-----------------|-------------|\n",
        "| `\\A` | Returns a match if the specified characters are at the beginning of the string | `\"\\AThe\"` |\n",
        "| `\\b` |\tReturns a match where the specified characters are at the beginning or at the end of a word (the \"r\" in the beginning is making sure that the string is being treated as a \"raw string\") | `r\"\\bain\"` or `r\"ain\\b\"` |\n",
        "| `\\B` | Returns a match where the specified characters are present, but NOT at the beginning (or at the end) of a word (the `\"r\"` in the beginning is making sure that the string is being treated as a \"raw string\") | `r\"\\Bain\"` or `r\"ain\\B\"` |\n",
        "| `\\d` | Returns a match where the string contains digits (numbers from 0-9) | `\"\\d\"` |\n",
        "| `\\D` | Returns a match where the string DOES NOT contain digits | `\"\\D\"` |\n",
        "| `\\s` | Returns a match where the string contains a white space character | `\"\\s\"` |\n",
        "| `\\S` | Returns a match where the string DOES NOT contain a white space character | `\"\\S\"` |\n",
        "| `\\w` | Returns a match where the string contains any word characters (characters from a to Z, digits from 0-9, and the underscore _ character) | `\"\\w\"` |\n",
        "| `\\W` | Returns a match where the string DOES NOT contain any word characters | `\"\\W\"` |\n",
        "| `\\Z` | Returns a match if the specified characters are at the end of the string | `\"Spain\\Z\"` |\n",
        "\n",
        "## Sets\n",
        "\n",
        "A set is a set of characters inside a pair of square brackets `[]` with a special meaning:\n",
        "\n",
        "| **Set** | **Description** |\n",
        "|---------|-----------------|\n",
        "| `[arn]` |\tReturns a match where one of the specified characters (`a`, `r`, or `n`) are present |\n",
        "| `[a-n]` | Returns a match for any lower case character, alphabetically between `a` and `n` |\n",
        "| `[^arn]` | Returns a match for any character EXCEPT `a`, `r`, and `n` |\n",
        "| `[0123]` | Returns a match where any of the specified digits (`0`, `1`, `2`, or `3`) are present |\n",
        "| `[0-9]` | Returns a match for any digit between `0` and `9` |\n",
        "| `[0-5][0-9]` | Returns a match for any two-digit numbers from `00` and `59` |\n",
        "| `[a-zA-Z]` | Returns a match for any character alphabetically between `a` and `z`, lower case OR upper case |\n",
        "| `[+]` | In sets, `+`, `*`, `.`, &#124;, `()`, $,`{}` has no special meaning, so `[+]` means: return a match for any `+` character in the string"
      ]
    },
    {
      "cell_type": "markdown",
      "metadata": {
        "id": "rHc0_UGtWMlL"
      },
      "source": [
        "## The `findall()` Function\n",
        "\n",
        "The `findall()` function returns a list containing all matches.\n",
        "\n",
        "### Example\n",
        "\n",
        "Print a list of all matches:"
      ]
    },
    {
      "cell_type": "code",
      "execution_count": 6,
      "metadata": {
        "id": "zVCnzCZYWMlL",
        "outputId": "f9d4824a-38e3-4c1b-c2dc-7c56ee13f90b"
      },
      "outputs": [
        {
          "name": "stdout",
          "output_type": "stream",
          "text": [
            "['ai', 'ai']\n"
          ]
        }
      ],
      "source": [
        "import re\n",
        "\n",
        "txt = \"The rain in Spain\"\n",
        "x = re.findall(\"ai\", txt)\n",
        "print(x)"
      ]
    },
    {
      "cell_type": "markdown",
      "metadata": {
        "id": "uv9fYtZgWMlL"
      },
      "source": [
        "The list contains the matches in the order they are found.\n",
        "\n",
        "If no matches are found, an empty list is returned:\n",
        "### Example\n",
        "\n",
        "Return an empty list if no match was found:"
      ]
    },
    {
      "cell_type": "code",
      "execution_count": 7,
      "metadata": {
        "id": "fgKXtix4WMlM",
        "outputId": "61932675-b7a0-4980-8581-c9b1c2ed8879"
      },
      "outputs": [
        {
          "name": "stdout",
          "output_type": "stream",
          "text": [
            "[]\n"
          ]
        }
      ],
      "source": [
        "import re\n",
        "\n",
        "txt = \"The rain in Spain\"\n",
        "x = re.findall(\"Portugal\", txt)\n",
        "print(x)"
      ]
    },
    {
      "cell_type": "markdown",
      "metadata": {
        "id": "dSZdESmQWMlM"
      },
      "source": [
        "## The `search()` Function\n",
        "\n",
        "The `search()` function searches the string for a match, and returns a Match object if there is a match.\n",
        "\n",
        "If there is more than one match, only the first occurrence of the match will be returned:\n",
        "\n",
        "### Example\n",
        "\n",
        "Search for the first white-space character in the string:"
      ]
    },
    {
      "cell_type": "code",
      "execution_count": 8,
      "metadata": {
        "id": "aQJCRnREWMlM",
        "outputId": "cfb5cdf0-8c09-43f8-9676-1c502f395d2d"
      },
      "outputs": [
        {
          "name": "stdout",
          "output_type": "stream",
          "text": [
            "The first white-space character is located in position: 3\n"
          ]
        }
      ],
      "source": [
        "import re\n",
        "\n",
        "txt = \"The rain in Spain\"\n",
        "x = re.search(\"\\s\", txt)\n",
        "\n",
        "print(\"The first white-space character is located in position:\", x.start())"
      ]
    },
    {
      "cell_type": "markdown",
      "metadata": {
        "id": "dexuuCeGWMlN"
      },
      "source": [
        "If no matches are found, the value `None` is returned:\n",
        "\n",
        "## Example\n",
        "\n",
        "Make a search that returns no match:"
      ]
    },
    {
      "cell_type": "code",
      "execution_count": 9,
      "metadata": {
        "id": "pb9nN4nEWMlN",
        "scrolled": true
      },
      "outputs": [
        {
          "name": "stdout",
          "output_type": "stream",
          "text": [
            "None\n"
          ]
        }
      ],
      "source": [
        "import re\n",
        "\n",
        "txt = \"The rain in Spain\"\n",
        "x = re.search(\"Portugal\", txt)\n",
        "print(x)"
      ]
    },
    {
      "cell_type": "markdown",
      "metadata": {
        "id": "dROFigIkWMlN"
      },
      "source": [
        "## The split() Function\n",
        "\n",
        "The `split()` function returns a list where the string has been split at each match:\n",
        "\n",
        "### Example\n",
        "\n",
        "Split at each white-space character:"
      ]
    },
    {
      "cell_type": "code",
      "execution_count": 10,
      "metadata": {
        "id": "Ig9YZ9-JWMlN"
      },
      "outputs": [
        {
          "name": "stdout",
          "output_type": "stream",
          "text": [
            "['The', 'rain', 'in', 'Spain']\n"
          ]
        }
      ],
      "source": [
        "import re\n",
        "\n",
        "txt = \"The rain in Spain\"\n",
        "x = re.split(\"\\s\", txt)\n",
        "print(x)"
      ]
    },
    {
      "cell_type": "markdown",
      "metadata": {
        "id": "T_mbHQKRWMlO"
      },
      "source": [
        "You can control the number of occurrences by specifying the maxsplit parameter:\n",
        "### Example\n",
        "\n",
        "Split the string only at the first occurrence:"
      ]
    },
    {
      "cell_type": "code",
      "execution_count": 11,
      "metadata": {
        "id": "aUTcbqaXWMlO"
      },
      "outputs": [
        {
          "name": "stdout",
          "output_type": "stream",
          "text": [
            "['The', 'rain in Spain']\n"
          ]
        }
      ],
      "source": [
        "import re\n",
        "\n",
        "txt = \"The rain in Spain\"\n",
        "x = re.split(\"\\s\", txt, 1)\n",
        "print(x)"
      ]
    },
    {
      "cell_type": "markdown",
      "metadata": {
        "id": "6rREslKyWMlO"
      },
      "source": [
        "## The `sub()` Function\n",
        "\n",
        "The `sub()` function replaces the matches with the text of your choice:\n",
        "### Example\n",
        "\n",
        "Replace every white-space character with the number 9:"
      ]
    },
    {
      "cell_type": "code",
      "execution_count": 12,
      "metadata": {
        "id": "niL8rsdzWMlO",
        "outputId": "d38a838e-4f18-431d-84a5-127c280417a6"
      },
      "outputs": [
        {
          "name": "stdout",
          "output_type": "stream",
          "text": [
            "The9rain9in9Spain\n"
          ]
        }
      ],
      "source": [
        "import re\n",
        "\n",
        "txt = \"The rain in Spain\"\n",
        "x = re.sub(\"\\s\", \"9\", txt)\n",
        "print(x)"
      ]
    },
    {
      "cell_type": "code",
      "execution_count": 13,
      "metadata": {
        "id": "1U2uwE55WMlO",
        "outputId": "373ffbc9-9421-42d7-8d74-8df1afeda510"
      },
      "outputs": [
        {
          "name": "stdout",
          "output_type": "stream",
          "text": [
            ".he rain in .pain\n"
          ]
        }
      ],
      "source": [
        "import re\n",
        "\n",
        "txt = \"The rain in Spain\"\n",
        "x = re.sub(\"[A-Z]\", \".\", txt)\n",
        "print(x)"
      ]
    },
    {
      "cell_type": "markdown",
      "metadata": {
        "id": "tNdiigCyWMlO"
      },
      "source": [
        "You can control the number of replacements by specifying the count parameter:\n",
        "### Example\n",
        "\n",
        "Replace the first 2 occurrences:"
      ]
    },
    {
      "cell_type": "code",
      "execution_count": 14,
      "metadata": {
        "id": "S-6vW5GYWMlO",
        "outputId": "11e99546-b944-4aa3-9fc7-6a7a28b5c11c"
      },
      "outputs": [
        {
          "name": "stdout",
          "output_type": "stream",
          "text": [
            "The9rain9in Spain\n"
          ]
        }
      ],
      "source": [
        "import re\n",
        "\n",
        "txt = \"The rain in Spain\"\n",
        "x = re.sub(\"\\s\", \"9\", txt, 2)\n",
        "print(x)"
      ]
    },
    {
      "cell_type": "markdown",
      "metadata": {
        "id": "a9HS6ZiqWMlP"
      },
      "source": [
        "## Match Object\n",
        "\n",
        "A Match Object is an object containing information about the search and the result.\n",
        "\n",
        "Note: If there is no match, the value `None` will be returned, instead of the Match Object.\n",
        "## Example\n",
        "\n",
        "Do a search that will return a Match Object:"
      ]
    },
    {
      "cell_type": "code",
      "execution_count": 15,
      "metadata": {
        "colab": {
          "base_uri": "https://localhost:8080/"
        },
        "id": "zOYL3zlIWMlP",
        "outputId": "3fc68014-9fa0-4106-eb21-30e7eeeec893"
      },
      "outputs": [
        {
          "name": "stdout",
          "output_type": "stream",
          "text": [
            "<re.Match object; span=(5, 7), match='ai'>\n"
          ]
        }
      ],
      "source": [
        "import re\n",
        "\n",
        "txt = \"The rain in Spain\"\n",
        "x = re.search(\"ai\", txt)\n",
        "print(x) #this will print an object"
      ]
    },
    {
      "cell_type": "markdown",
      "metadata": {
        "id": "hCUthJ50WMlP"
      },
      "source": [
        "The Match object has properties and methods used to retrieve information about the search, and the result:\n",
        "\n",
        "| | |\n",
        "|--------|------|\n",
        "| `.span()` | returns a tuple containing the start-, and end positions of the match. |\n",
        "| `.string` | returns the string passed into the function |\n",
        "| `.group()` | returns the part of the string where there was a match |\n",
        "\n",
        "### Example\n",
        "\n",
        "Print the position (start- and end-position) of the first match occurrence.\n",
        "\n",
        "The regular expression looks for any words that starts with an upper case \"S\":"
      ]
    },
    {
      "cell_type": "code",
      "execution_count": 16,
      "metadata": {
        "colab": {
          "base_uri": "https://localhost:8080/"
        },
        "id": "8oKVyD3MWMlP",
        "outputId": "05174e40-3106-4439-9702-b97bf195376f"
      },
      "outputs": [
        {
          "name": "stdout",
          "output_type": "stream",
          "text": [
            "(12, 17)\n"
          ]
        }
      ],
      "source": [
        "import re\n",
        "\n",
        "txt = \"The rain in Spain\"\n",
        "x = re.search(r\"\\bS\\w+\", txt)\n",
        "print(x.span())"
      ]
    },
    {
      "cell_type": "markdown",
      "metadata": {
        "id": "EVUE_VC9WMlP"
      },
      "source": [
        "### Example\n",
        "\n",
        "Print the string passed into the function:"
      ]
    },
    {
      "cell_type": "code",
      "execution_count": 17,
      "metadata": {
        "id": "pRhJXpsMWMlP"
      },
      "outputs": [
        {
          "name": "stdout",
          "output_type": "stream",
          "text": [
            "The rain in Spain\n"
          ]
        }
      ],
      "source": [
        "import re\n",
        "\n",
        "txt = \"The rain in Spain\"\n",
        "x = re.search(r\"\\bS\\w+\", txt)\n",
        "print(x.string)"
      ]
    },
    {
      "cell_type": "markdown",
      "metadata": {
        "id": "cJt5DpJfWMlP"
      },
      "source": [
        "### Example\n",
        "\n",
        "Print the part of the string where there was a match.\n",
        "\n",
        "The regular expression looks for any words that starts with an upper case \"S\":"
      ]
    },
    {
      "cell_type": "code",
      "execution_count": 18,
      "metadata": {
        "id": "GtakFSBRWMlP"
      },
      "outputs": [
        {
          "name": "stdout",
          "output_type": "stream",
          "text": [
            "Spain\n"
          ]
        }
      ],
      "source": [
        "import re\n",
        "\n",
        "txt = \"The rain in Spain\"\n",
        "x = re.search(r\"\\bS\\w+\", txt)\n",
        "print(x.group())"
      ]
    }
  ],
  "metadata": {
    "colab": {
      "provenance": []
    },
    "kernelspec": {
      "display_name": "Python 3 (ipykernel)",
      "language": "python",
      "name": "python3"
    },
    "language_info": {
      "codemirror_mode": {
        "name": "ipython",
        "version": 3
      },
      "file_extension": ".py",
      "mimetype": "text/x-python",
      "name": "python",
      "nbconvert_exporter": "python",
      "pygments_lexer": "ipython3",
      "version": "3.11.9"
    }
  },
  "nbformat": 4,
  "nbformat_minor": 0
}
